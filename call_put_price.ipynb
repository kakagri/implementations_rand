{
 "cells": [
  {
   "cell_type": "code",
   "execution_count": 5,
   "id": "e5215ed5",
   "metadata": {},
   "outputs": [],
   "source": [
    "import numpy as np \n",
    "from scipy.stats import norm\n"
   ]
  },
  {
   "cell_type": "markdown",
   "id": "179036cb",
   "metadata": {},
   "source": [
    "# Calcul de prix d'options vanilles (avec ou sans dividende)"
   ]
  },
  {
   "cell_type": "code",
   "execution_count": 6,
   "id": "9d4bac6e",
   "metadata": {},
   "outputs": [],
   "source": [
    "\n",
    "def compute_call_put_BS(S0, T, K, sigma, r, q=0., t=0.):\n",
    "    d_plus = (1./(sigma*np.sqrt(T-t)))*np.log(S0/(K*np.exp(-(r-q)*(T-t)))) + 0.5*sigma*np.sqrt(T-t)\n",
    "    d_moins = d_plus - sigma*np.sqrt(T-t)\n",
    "    \n",
    "    call = S0*np.exp(-q*(T-t))*norm.cdf(d_plus) - K*np.exp(-r*(T-t))*norm.cdf(d_moins)\n",
    "    put = K*np.exp(-r*(T-t))*norm.cdf(-d_moins) - S0*np.exp(-q*(T-t))*norm.cdf(-d_plus)\n",
    "    \n",
    "    return {\"call\": call, \"put\": put, \"d_plus\":d_plus, \"d_moins\":d_moins}\n",
    "\n",
    "def compute_call_BS(S0, T, K, sigma, r, q=0, t=0):\n",
    "    d_plus = (1./(sigma*np.sqrt(T-t)))*np.log(S0/(K*np.exp(-(r-q)*(T-t)))) + 0.5*sigma*np.sqrt(T-t)\n",
    "    d_moins = d_plus - sigma*np.sqrt(T-t)\n",
    "    call = S0*np.exp(-q*(T-t))*norm.cdf(d_plus) - K*np.exp(-r*(T-t))*norm.cdf(d_moins)\n",
    "    return call\n",
    "\n",
    "def compute_put_BS(S0, T, K, sigma, r, q=0., t=0.):\n",
    "    d_plus = (1./(sigma*np.sqrt(T-t)))*np.log(S0/(K*np.exp(-(r-q)*(T-t)))) + 0.5*sigma*np.sqrt(T-t)\n",
    "    d_moins = d_plus - sigma*np.sqrt(T-t)\n",
    "    put = K*np.exp(-r*(T-t))*norm.cdf(-d_moins) - S0*np.exp(-q*(T-t))*norm.cdf(-d_plus)\n",
    "    return put\n"
   ]
  },
  {
   "cell_type": "markdown",
   "id": "bfc4c782",
   "metadata": {},
   "source": [
    "# Calcul de grecques d'options vanilles (avec ou sans dividende)"
   ]
  },
  {
   "cell_type": "code",
   "execution_count": 7,
   "id": "dc718ce5",
   "metadata": {},
   "outputs": [],
   "source": [
    "def compute_delta_BS(S0, T, K, sigma, r, q=0., t=0.):\n",
    "    d_plus = (1./(sigma*np.sqrt(T-t)))*np.log(S0/(K*np.exp(-(r-q)*(T-t)))) + 0.5*sigma*np.sqrt(T-t)\n",
    "    d_moins = d_plus - sigma*np.sqrt(T-t)\n",
    "    \n",
    "    delta_call = np.exp(-q*(T-t))*norm.cdf(d_plus)\n",
    "    delta_put = np.exp(-q*(T-t))*(norm.cdf(d_plus)-1)\n",
    "    \n",
    "    return {\"delta_call\": delta_call, \"delta_put\": delta_put}\n",
    "\n",
    "def compute_delta_call_BS(S0, T, K, sigma, r, q=0., t=0.):\n",
    "    d_plus = (1./(sigma*np.sqrt(T-t)))*np.log(S0/(K*np.exp(-(r-q)*(T-t)))) + 0.5*sigma*np.sqrt(T-t)\n",
    "    d_moins = d_plus - sigma*np.sqrt(T-t)\n",
    "    delta_call = np.exp(-q*(T-t))*norm.cdf(d_plus)\n",
    "    return delta_call\n",
    "\n",
    "def compute_delta_put_BS(S0, T, K, sigma, r, q=0., t=0.):\n",
    "    d_plus = (1./(sigma*np.sqrt(T-t)))*np.log(S0/(K*np.exp(-(r-q)*(T-t)))) + 0.5*sigma*np.sqrt(T-t)\n",
    "    d_moins = d_plus - sigma*np.sqrt(T-t)\n",
    "    delta_put = np.exp(-q*(T-t))*(norm.cdf(d_plus)-1)\n",
    "    return delta_put\n",
    "\n",
    "def compute_gamma_BS(S0, T, K, sigma, r, q=0., t=0.):\n",
    "    d_plus = (1./(sigma*np.sqrt(T-t)))*np.log(S0/(K*np.exp(-(r-q)*(T-t)))) + 0.5*sigma*np.sqrt(T-t)\n",
    "    d_moins = d_plus - sigma*np.sqrt(T-t)\n",
    "    \n",
    "    gamma = (1./(S0*sigma*np.sqrt(T)))*norm.pdf(d_plus)\n",
    "    \n",
    "    return {\"gamma_call\": gamma, \"gamma_put\": gamma}\n",
    "\n",
    "def compute_gamma_call_BS(S0, T, K, sigma, r, q=0., t=0.):\n",
    "    d_plus = (1./(sigma*np.sqrt(T-t)))*np.log(S0/(K*np.exp(-(r-q)*(T-t)))) + 0.5*sigma*np.sqrt(T-t)\n",
    "    d_moins = d_plus - sigma*np.sqrt(T-t)\n",
    "    gamma = (1./(S0*sigma*np.sqrt(T)))*norm.pdf(d_plus)\n",
    "    return gamma\n",
    "\n",
    "def compute_gamma_put_BS(S0, T, K, sigma, r, q=0., t=0.):\n",
    "    d_plus = (1./(sigma*np.sqrt(T-t)))*np.log(S0/(K*np.exp(-(r-q)*(T-t)))) + 0.5*sigma*np.sqrt(T-t)\n",
    "    d_moins = d_plus - sigma*np.sqrt(T-t)\n",
    "    gamma = (1./(S0*sigma*np.sqrt(T)))*norm.pdf(d_plus)\n",
    "    return gamma\n",
    "\n",
    "\n",
    "def compute_vega_BS(S0, T, K, sigma, r, q=0., t=0.):\n",
    "    d_plus = (1./(sigma*np.sqrt(T-t)))*np.log(S0/(K*np.exp(-(r-q)*(T-t)))) + 0.5*sigma*np.sqrt(T-t)\n",
    "    d_moins = d_plus - sigma*np.sqrt(T-t)\n",
    "    vega = np.exp(-q*(T-t))*S0*np.sqrt(T-t)*norm.pdf(d_plus)\n",
    "    return {\"vega_call\": vega, \"vega_put\": vega} ##for sake of consistency\n",
    "\n",
    "def compute_vega_call_BS(S0, T, K, sigma, r, q=0., t=0.):\n",
    "    d_plus = (1./(sigma*np.sqrt(T-t)))*np.log(S0/(K*np.exp(-(r-q)*(T-t)))) + 0.5*sigma*np.sqrt(T-t)\n",
    "    d_moins = d_plus - sigma*np.sqrt(T-t)\n",
    "    vega = np.exp(-q*(T-t))*S0*np.sqrt(T-t)*norm.pdf(d_plus)\n",
    "    return vega ##for sake of consistency\n",
    "\n",
    "\n",
    "def compute_vega_put_BS(S0, T, K, sigma, r, q=0., t=0.):\n",
    "    d_plus = (1./(sigma*np.sqrt(T-t)))*np.log(S0/(K*np.exp(-(r-q)*(T-t)))) + 0.5*sigma*np.sqrt(T-t)\n",
    "    d_moins = d_plus - sigma*np.sqrt(T-t)\n",
    "    vega = np.exp(-q*(T-t))*S0*np.sqrt(T-t)*norm.pdf(d_plus)\n",
    "    return vega ##for sake of consistency\n",
    "\n",
    "\n",
    "def compute_theta_util_BS(S0, T, K, sigma, r):\n",
    "    d_plus = (1./(sigma*np.sqrt(T))) * np.log(S0*np.exp(r*T)/K) + 0.5*sigma*np.sqrt(T)\n",
    "    d_moins = d_plus - sigma*np.sqrt(T)\n",
    "    \n",
    "    theta_call = ((S0*sigma)/(2*np.sqrt(T)))*norm.pdf(d_plus) + r*K*np.exp(-r*T)*norm.cdf(d_moins)\n",
    "    theta_put = ((S0*sigma)/(2*np.sqrt(T)))*norm.pdf(d_plus) - r*K*np.exp(-r*T)*(1-norm.cdf(d_moins))\n",
    "    \n",
    "    return {\"theta_call\": theta_call, \"theta_put\": theta_put}\n",
    "\n",
    "def compute_theta_BS(S0, T, K, sigma, r, q=0., t=0.):\n",
    "    T_ = T-t\n",
    "    r_ = r-q\n",
    "    \n",
    "    thetas = compute_theta_util_BS(S0,T_, K, sigma, r_)\n",
    "    call_put = compute_call_put_BS(S0, T_, K, sigma, r_)\n",
    "    \n",
    "    theta_call = -q*np.exp(-q*T_)*call_put[\"call\"] + np.exp(-q*T_)*thetas[\"theta_call\"]\n",
    "    theta_put = -q*np.exp(-q*T_)*call_put[\"put\"] + np.exp(-q*T_)*thetas[\"theta_put\"]\n",
    "    \n",
    "    return {\"theta_put\": theta_put, \"theta_call\": theta_call}\n",
    "\n",
    "def compute_theta_call_BS(S0, T, K, sigma, r, q=0., t=0.):\n",
    "    T_ = T-t\n",
    "    r_ = r-q\n",
    "    thetas = compute_theta_util_BS(S0,T_, K, sigma, r_)\n",
    "    call_put = compute_call_put_BS(S0, T_, K, sigma, r_)\n",
    "    theta_call = -q*np.exp(-q*T_)*call_put[\"call\"] + np.exp(-q*T_)*thetas[\"theta_call\"]    \n",
    "    return theta_call\n",
    "\n",
    "def compute_theta_put_BS(S0, T, K, sigma, r, q=0., t=0.):\n",
    "    T_ = T-t\n",
    "    r_ = r-q\n",
    "    thetas = compute_theta_util_BS(S0,T_, K, sigma, r_)\n",
    "    call_put = compute_call_put_BS(S0, T_, K, sigma, r_)\n",
    "    theta_put = -q*np.exp(-q*T_)*call_put[\"put\"] + np.exp(-q*T_)*thetas[\"theta_put\"]\n",
    "    return theta_put\n",
    "\n",
    "\n",
    "def compute_rho_util_BS(S0, T, K, sigma, r):\n",
    "    d_plus = (1./(sigma*np.sqrt(T))) * np.log(S0*np.exp(r*T)/K) + 0.5*sigma*np.sqrt(T)\n",
    "    d_moins = d_plus - sigma*np.sqrt(T)\n",
    "    \n",
    "    rho_call = T*K*np.exp(-r*T)*norm.cdf(d_moins)\n",
    "    rho_put = -T*K*np.exp(-r*T)*(1-norm.cdf(d_moins))\n",
    "    \n",
    "    return {\"rho_put\":rho_put, \"rho_call\": rho_call}\n",
    "\n",
    "def compute_rho_BS(S0, T, K, sigma, r, q=0., t=0.):\n",
    "    T_ = T-t\n",
    "    r_ = r-q\n",
    "    rhos = compute_rho_util_BS(S0, T_, K, sigma, r_)\n",
    "    \n",
    "    rho_call = np.exp(-q*T_)*rhos[\"rho_call\"]\n",
    "    rho_put = np.exp(-q*T_)*rhos[\"rho_put\"]\n",
    "    \n",
    "    return {\"rho_call\": rho_call, \"rho_put\": rho_put}\n",
    "    \n",
    "def compute_rho_call_BS(S0, T, K, sigma, r, q=0., t=0.):\n",
    "    T_ = T-t\n",
    "    r_ = r-q\n",
    "    rhos = compute_rho_util_BS(S0, T_, K, sigma, r_)\n",
    "    rho_call = np.exp(-q*T_)*rhos[\"rho_call\"]    \n",
    "    return rho_call\n",
    "\n",
    "def compute_rho_put_BS(S0, T, K, sigma, r, q=0., t=0.):\n",
    "    T_ = T-t\n",
    "    r_ = r-q\n",
    "    rhos = compute_rho_util_BS(S0, T_, K, sigma, r_)\n",
    "    rho_put = np.exp(-q*T_)*rhos[\"rho_put\"]\n",
    "    return rho_put\n",
    "    \n",
    "def compute_call_put_and_greeks_BS(S0, T, K, sigma, r, q=0., t=0.):\n",
    "    call_put = compute_call_put_BS(S0, T, K, sigma, r, q, t)\n",
    "    deltas = compute_delta_BS(S0, T, K, sigma, r, q, t)\n",
    "    vegas = compute_vega_BS(S0, T, K, sigma, r, q, t)\n",
    "    gammas = compute_gamma_BS(S0, T, K, sigma, r, q, t)\n",
    "    thetas = compute_theta_BS(S0, T, K, sigma, r, q, t)\n",
    "    rhos = compute_rho_BS(S0, T, K, sigma, r, q, t)\n",
    "    \n",
    "    all_= {\"call\": call_put[\"call\"], \"put\": call_put[\"put\"], \"delta_call\": deltas[\"delta_call\"], \"delta_put\": deltas[\"delta_put\"],\n",
    "        \"vega_put\": vegas[\"vega_put\"], \"vega_call\": vegas[\"vega_call\"], \"gamma_call\": gammas[\"gamma_call\"], \"gamma_put\": gammas[\"gamma_put\"],\n",
    "        \"theta_call\": thetas[\"theta_call\"], \"theta_put\": thetas[\"theta_put\"], \"rho_call\": rhos[\"rho_call\"], \"rho_put\": rhos[\"rho_put\"]}\n",
    "    return all_\n",
    "\n",
    "\n"
   ]
  },
  {
   "cell_type": "code",
   "execution_count": 47,
   "id": "53547608",
   "metadata": {},
   "outputs": [
    {
     "name": "stdout",
     "output_type": "stream",
     "text": [
      "0.025360577584971344\n",
      "0.01674067278430404\n",
      "1.5149079079276477\n"
     ]
    }
   ],
   "source": [
    "gamma_1 = compute_gamma_call_BS(S0=92.48, T = 0.581, K=91.52, sigma=0.2202, r=0.005)\n",
    "gamma_2 = compute_gamma_call_BS(S0=92.48, T = 0.766, K=109.54, sigma=0.2202, r=0.005)\n",
    "print(gamma_1)\n",
    "print(gamma_2)\n",
    "print(gamma_1/gamma_2)\n",
    "\n"
   ]
  },
  {
   "cell_type": "code",
   "execution_count": 46,
   "id": "6322aa9e",
   "metadata": {},
   "outputs": [
    {
     "name": "stdout",
     "output_type": "stream",
     "text": [
      "0.017861676531841463\n",
      "0.02966141349796088\n",
      "0.6021856150944861\n"
     ]
    }
   ],
   "source": [
    "gamma_1 = compute_gamma_call_BS(S0=93.29, T = 0.57, K=106.39, sigma=0.1296, r=0.005)\n",
    "gamma_2 = compute_gamma_call_BS(S0=93.29, T = 0.748, K=102.03, sigma=0.1296, r=0.005)\n",
    "print(gamma_1)\n",
    "print(gamma_2)\n",
    "print(gamma_1/gamma_2)\n",
    "\n",
    "###\n",
    "##TeX source:\n",
    "##S_0=93.290000, T_1=0.470000, K_1=106.390000, T_2=0.748000, K_2=102.030000, r=0.005000, \\sigma=0.129600"
   ]
  },
  {
   "cell_type": "code",
   "execution_count": null,
   "id": "85b021f0",
   "metadata": {},
   "outputs": [],
   "source": []
  },
  {
   "cell_type": "code",
   "execution_count": null,
   "id": "ba5dd1ba",
   "metadata": {},
   "outputs": [],
   "source": []
  },
  {
   "cell_type": "code",
   "execution_count": null,
   "id": "e7901915",
   "metadata": {},
   "outputs": [],
   "source": []
  },
  {
   "cell_type": "code",
   "execution_count": null,
   "id": "a4d8034c",
   "metadata": {},
   "outputs": [],
   "source": []
  },
  {
   "cell_type": "code",
   "execution_count": null,
   "id": "e6d1a213",
   "metadata": {},
   "outputs": [],
   "source": []
  },
  {
   "cell_type": "markdown",
   "id": "239b5bb2",
   "metadata": {},
   "source": [
    "# Calcul de prix et deltas de BINC, BINP (avec ou sans dividende)"
   ]
  },
  {
   "cell_type": "code",
   "execution_count": 8,
   "id": "85068f7a",
   "metadata": {},
   "outputs": [],
   "source": [
    "def compute_bin_call_BS(S0, T, K, sigma, r, q=0., t=0.):\n",
    "    T_= T-t\n",
    "    r_ = r-q\n",
    "    d_moins = (1./(sigma*np.sqrt(T_))) * np.log((S0*np.exp(r_*T_))/K) - 0.5*sigma*np.sqrt(T_)\n",
    "    \n",
    "    return np.exp(-r*T_)*norm.cdf(d_moins)\n",
    "\n",
    "def compute_bin_put_BS(S0, T, K, sigma, r, q=0., t=0.):\n",
    "    T_ = T-t\n",
    "    r_ = r-q\n",
    "    d_plus = (1./(sigma*np.sqrt(T_))) * np.log(K/(S0*np.exp(r_*T_))) + 0.5*sigma*np.sqrt(T_)\n",
    "    return np.exp(-r*T_)*norm.cdf(d_plus)\n",
    "\n",
    "def compute_delta_bin_call_BS(S0, T, K, sigma, r, q=0., t=0.):\n",
    "    T_= T-t\n",
    "    r_ = r-q\n",
    "    d_moins = (1./(sigma*np.sqrt(T_))) * np.log((S0*np.exp(r_*T_))/K) - 0.5*sigma*np.sqrt(T_)\n",
    "    return (1./(sigma*np.sqrt(T_)*S0)) * np.exp(-r*T_) * norm.pdf(d_moins)\n",
    "\n",
    "\n",
    "def compute_delta_bin_put_BS(S0, T, K, sigma, r, q=0., t=0.):\n",
    "    T_ = T-t\n",
    "    r_ = r-q\n",
    "    d_plus = (1./(sigma*np.sqrt(T_))) * np.log(K/(S0*np.exp(r_*T_))) + 0.5*sigma*np.sqrt(T_)\n",
    "    return -(1./(sigma*np.sqrt(T_)*S0)) * np.exp(-r*T_) * norm.pdf(d_plus)\n"
   ]
  },
  {
   "cell_type": "code",
   "execution_count": 9,
   "id": "bf9ee3ab",
   "metadata": {},
   "outputs": [],
   "source": [
    "somme_vol =(np.power(0.327,2)*1 + np.power(0.303,2)*1  + np.power(0.279,2)*1 + np.power(0.258,2)*3 + np.power(0.246,2)*2)"
   ]
  },
  {
   "cell_type": "code",
   "execution_count": 10,
   "id": "18df869a",
   "metadata": {},
   "outputs": [
    {
     "name": "stdout",
     "output_type": "stream",
     "text": [
      "0.2576179341583191\n"
     ]
    }
   ],
   "source": [
    "sigma = np.sqrt(somme_vol/9.)\n",
    "print(sigma)"
   ]
  },
  {
   "cell_type": "markdown",
   "id": "d7359822",
   "metadata": {},
   "source": [
    "# Calcul de prix d'options barrières et deltas (avec ou sans cout de portage)"
   ]
  },
  {
   "cell_type": "code",
   "execution_count": 21,
   "id": "442a4115",
   "metadata": {},
   "outputs": [],
   "source": [
    "def compute_dic_without_portage_BS(S0, T, K, D, sigma, r,  t=0.):\n",
    "    return compute_call_BS(D, T, K*S0/D, sigma, r , q=r, t=t)\n",
    "\n",
    "def compute_delta_dic_without_portage_BS(S0, T, K, D, sigma, r, t=0.):\n",
    "    return -compute_bin_call_BS(D, T, K*S0/D, sigma, r, q=r, t=t)*K/D\n",
    "\n",
    "def compute_bin_dic_BS(S0, T, K, D, sigma, r, q=0., t=0.):\n",
    "    gamma = 1 - 2*(r-q)/(sigma**2.)\n",
    "    return np.power(S0/D, gamma)*compute_bin_call_BS(D, T, K*S0/D, sigma, r, q, t)\n",
    "\n",
    "def compute_dic_BS(S0, T, K, D, sigma, r, q=0., t=0.):\n",
    "    gamma = 1 - 2*(r-q)/(sigma**2.)\n",
    "    return np.power(S0/D, gamma-1)*compute_call_BS(D, T, K*S0/D, sigma, r, q, t)\n",
    "\n",
    "\n",
    "def compute_delta_dic_BS(S0, T, K, D, sigma, r, q=0., t=0.):\n",
    "    gamma = 1-2*(r-q)/(sigma**2.)\n",
    "    y_1 = (gamma-1)*np.power(S0/D, gamma-2)*compute_call_BS(D, T, K*S0/D, sigma, r, q, t)\n",
    "    y_2 = -np.power(S0/D, gamma-1)*compute_bin_call_BS(D, T, K*S0/D, sigma, r, q, t)\n",
    "    return y_1 + y_2\n",
    "\n",
    "def compute_doc_without_portage_BS(S0, T, K, D, sigma, r, t = 0.):\n",
    "    return compute_call_BS(S0, T, K, sigma, r, q = r, t = t) - compute_dic_without_portage_BS(S0, T, K , D, sigma, r, t)\n",
    "\n",
    "def compute_delta_doc_without_portage_BS(S0, T, K, D, sigma , r, t = 0.):\n",
    "    return compute_delta_call_BS(S0, T, K, sigma, r, q = r, t = t) - compute_delta_dic_without_portage_BS(S0, T, K, D, sigma, r, t)\n",
    "\n",
    "\n",
    "def compute_doc_BS(S0, T, K, D, sigma, r, q=0., t=0.):\n",
    "    return compute_call_BS(S0, T, K, sigma, r, q, t) - compute_dic_BS(S0, T, K, D, sigma, r, q, t)\n",
    "\n",
    "def compute_delta_doc_BS(S0, T, K, D, sigma, r, q=0., t=0.):\n",
    "    return compute_delta_call_BS(S0, T, K, sigma, r, q, t) - compute_delta_dic_BS(S0, T, K, D, sigma, r, q, t)\n",
    "    \n",
    "\n",
    "def compute_bin_doc_BS(S0, T, K, D, sigma, r, q=0., t=0.):\n",
    "    return compute_bin_call_BS(S0, T, K, sigma, r, q, t) - compute_bin_dic_BS(S0, T, K, D, sigma, r, q, t)\n",
    "\n",
    "\n",
    "\n",
    "def compute_bin_dic_rev_BS(S0, T, K, D, sigma, r, q=0., t=0.):\n",
    "    bin_c = compute_bin_call_BS(S0, T, K, sigma, r, q, t)\n",
    "    bin_p = compute_bin_put_BS(S0, T, K, sigma, r, q, t)\n",
    "    bin_dic = compute_bin_dic_reg_BS(S0, T, D, D, sigma, r, q, t)\n",
    "    \n",
    "    return bin_c - np.exp(-r*(T-t)) + bin_p + bin_dic\n",
    "\n",
    "def compute_dic_rev_BS(S0, T, K, D, sigma, r, q=0., t=0.):\n",
    "    call_K = compute_call_BS(S0, T, K, sigma, r, q, t)\n",
    "    call_D = compute_call_BS(S0, T, D, sigma, r, q, t)\n",
    "    bin_D = compute_bin_call_BS(S0, T, D, sigma, r, q, t)\n",
    "    dic = compute_dic_reg_BS(S0, T, D, D, sigma, r, q, t)\n",
    "    bin_dic = compute_bin_dic_reg_BS(S0, T, D, D, sigma, r, q, t)\n",
    "    \n",
    "    return call_K - call_D - (D-K)*bin_D + dic + (D-K)*bin_dic\n",
    "\n",
    "\n",
    "\n",
    "\n"
   ]
  },
  {
   "cell_type": "code",
   "execution_count": 52,
   "id": "b6420e28",
   "metadata": {},
   "outputs": [
    {
     "data": {
      "text/plain": [
       "3.6812968417338894"
      ]
     },
     "execution_count": 52,
     "metadata": {},
     "output_type": "execute_result"
    }
   ],
   "source": [
    "#compute_dic_BS(S0, T, K, D, sigma, r, q=0., t=0.):\n",
    "#S_0=107.530000, T=0.290000, K=111.500000, D=105.440000, r=0.000000, q=0.000000, \\sigma=0.109200, a=19.570000\n",
    "a = 27.1\n",
    "#compute_dic_without_portage_BS(S0, T, K, D, sigma, r, t=0.)\n",
    "compute_dic_without_portage_BS(S0 = 97.55 + a, T= 0.308, K = 99.93+a, D= 93.89 + a, sigma = 0.2739, r = 0)"
   ]
  },
  {
   "cell_type": "code",
   "execution_count": 62,
   "id": "91a9c4b3",
   "metadata": {},
   "outputs": [
    {
     "data": {
      "text/plain": [
       "0.6385944360663869"
      ]
     },
     "execution_count": 62,
     "metadata": {},
     "output_type": "execute_result"
    }
   ],
   "source": [
    "#S_0=106.890000, T=0.802000, K=103.420000, r=0.002000, q=0.044000, \\sigma=0.230600\n",
    "#T'=0.430000\n",
    "#compute_delta_call_BS(S0, T, K, sigma, r, q=0., t=0.):\n",
    "S0 = 102.79\n",
    "T = 0.711\n",
    "t = 0.364\n",
    "K = 94.39\n",
    "r = 0.001\n",
    "q = 0.051\n",
    "sigma = 0.2781\n",
    "\n",
    "compute_delta_call_BS(np.exp((r-q)*t)*S0, T, K, sigma, r, q, t)"
   ]
  },
  {
   "cell_type": "code",
   "execution_count": 58,
   "id": "eb5f99fc",
   "metadata": {},
   "outputs": [
    {
     "name": "stdout",
     "output_type": "stream",
     "text": [
      "-0.14353719\n"
     ]
    }
   ],
   "source": [
    "### an asset S. Its spot volatility is 18.91 %. The EuroDollar has a spot volatility 9.09 % and a correlation 0.25 with the asset.\n",
    "#Compute the spot volatility (in %) of the asset in Dollar (expected accuracy = 0.01).\n",
    "\n",
    "sigma_s = 0.1891\n",
    "sigma_x = 0.0909\n",
    "sigma_s_x = 0.25\n",
    "\n",
    "sigma = sigma_s - sigma_x +sigma_x*sigma_x - sigma_s_x\n",
    "print(sigma)"
   ]
  },
  {
   "cell_type": "markdown",
   "id": "ea495ecd",
   "metadata": {},
   "source": [
    "# Calcul du prix d'un payoff dans le modèle binomial "
   ]
  },
  {
   "cell_type": "code",
   "execution_count": 34,
   "id": "14263abb",
   "metadata": {},
   "outputs": [],
   "source": [
    "def compute_price_binomial(payoff, S0, N_periods, up_multiple, down_multiple, r):\n",
    "    p = (1+r-down_multiple)/(up_multiple-down_multiple)\n",
    "    q = 1-p\n",
    "    moyenne = 0\n",
    "    current_value = S0*np.power(down_multiple, N_periods)\n",
    "    current_probability = np.power(q, N_periods)\n",
    "    for k in range(N_periods+1):\n",
    "        moyenne += payoff(current_value)*current_probability\n",
    "        current_value = current_value*up_multiple/down_multiple\n",
    "        current_probability = current_probability*(N_periods-k)*p/(q*(k+1))\n",
    "    moyenne = moyenne /np.power(1+r, N_periods)\n",
    "    return moyenne\n",
    "    "
   ]
  },
  {
   "cell_type": "code",
   "execution_count": 43,
   "id": "e8eeb266",
   "metadata": {},
   "outputs": [
    {
     "name": "stdout",
     "output_type": "stream",
     "text": [
      "43.502892247791436\n",
      "41.77771937224527\n"
     ]
    }
   ],
   "source": [
    "def payoff_call(s):\n",
    "    return np.maximum(s-100, 0)\n",
    "\n",
    "print(compute_price_binomial(payoff_call, 95, 5, 1.4, 0.7, 0.1))\n",
    "print(compute_call_BS(95, 5, 100, 0.3, 0.1))"
   ]
  },
  {
   "cell_type": "code",
   "execution_count": null,
   "id": "215fcf6b",
   "metadata": {},
   "outputs": [],
   "source": []
  },
  {
   "cell_type": "code",
   "execution_count": 29,
   "id": "7c3e331b",
   "metadata": {},
   "outputs": [
    {
     "name": "stdout",
     "output_type": "stream",
     "text": [
      "0.708192295505093\n",
      "-0.2778157302056792\n",
      "0.4303765652994138\n",
      "0.43037656529941387\n"
     ]
    }
   ],
   "source": [
    "print(compute_delta_doc_BS(S0=106.81, T=0.782, K=109.69, D=104.55, \n",
    "                         sigma=0.1721, r=0.087, q=0.087, t=0.))\n",
    "print(compute_delta_dic_BS(S0=106.81, T=0.782, K=109.69, D=104.55, \n",
    "                         sigma=0.1721, r=0.087, q=0.087, t=0.))\n",
    "print(compute_delta_dic_BS(S0=106.81, T=0.782, K=109.69, D=104.55, \n",
    "                         sigma=0.1721, r=0.087, q=0.087, t=0.) + compute_delta_doc_BS(S0=106.81, T=0.782, K=109.69, D=104.55, \n",
    "                         sigma=0.1721, r=0.087, q=0.087, t=0.))\n",
    "print(compute_delta_call_BS(S0=106.81, T=0.782, K=109.69, \n",
    "                         sigma=0.1721, r=0.087, q=0.087, t=0.))"
   ]
  },
  {
   "cell_type": "code",
   "execution_count": 37,
   "id": "bb3ab3b6",
   "metadata": {},
   "outputs": [],
   "source": [
    "def compute_for_q1(S0, T, K, D, sigma, r):\n",
    "    d_moins = (1./(sigma*np.sqrt(T)))*np.log(D*D/(K*S0)) - 0.5*sigma*np.sqrt(T)\n",
    "    return (K/D)*np.exp(-r*T)*norm.cdf(d_moins)"
   ]
  },
  {
   "cell_type": "code",
   "execution_count": 38,
   "id": "bca8151d",
   "metadata": {},
   "outputs": [
    {
     "data": {
      "text/plain": [
       "0.29147400713783783"
      ]
     },
     "execution_count": 38,
     "metadata": {},
     "output_type": "execute_result"
    }
   ],
   "source": [
    "compute_for_q1(S0 = 106.81, T= 0.782, K= 109.69, D = 104.55, sigma =0.1721, r = 0.087)"
   ]
  },
  {
   "cell_type": "code",
   "execution_count": 18,
   "id": "b78a8cec",
   "metadata": {},
   "outputs": [
    {
     "data": {
      "image/png": "[encoded data removed]",
      "text/plain": [
       "<Figure size 432x288 with 1 Axes>"
      ]
     },
     "metadata": {
      "needs_background": "light"
     },
     "output_type": "display_data"
    }
   ],
   "source": [
    "import matplotlib.pyplot as plt \n",
    "import numpy as np \n",
    "\n",
    "X = np.linspace(0.0000001, 1., 1000)\n",
    "Y = [compute_delta_bin_call_BS(100, t, 103, 0.2, 0.05) for t in X]\n",
    "\n",
    "plt.plot(X, Y)\n",
    "plt.show()\n"
   ]
  },
  {
   "cell_type": "code",
   "execution_count": null,
   "id": "92b2f86c",
   "metadata": {},
   "outputs": [],
   "source": [
    "def compute_call_DLN(a, S0, T, K, r, q=0., t=0.):\n",
    "    return compute_call_BS(S0+a, T, K+a, sigma, r, q, t)\n",
    "\n"
   ]
  },
  {
   "cell_type": "code",
   "execution_count": 29,
   "id": "f2325c34",
   "metadata": {},
   "outputs": [],
   "source": [
    "def compute_implied_vol_BISECTRICE_BS(CALL_MARKET, S0, T, K, r, q=0., t=0., epsilon = 0.001):\n",
    "    x, y = 0., 1.\n",
    "    z = (x+y)/2.\n",
    "    while np.abs(compute_call_BS(S0, T, K, z/(1.-z), r, q, t)-CALL_MARKET) > epsilon:\n",
    "        if compute_call_BS(S0, T, K, z, r, q) > CALL_MARKET:\n",
    "            x = z\n",
    "            z = (x+y)/2\n",
    "        else:\n",
    "            y = z\n",
    "            z = (x+y)/2\n",
    "    return z/(1.-z)\n",
    "\n",
    "def compute_implied_vol_NEWTON_BS(CALL_MARKET, S0, T, K, r, q=0., t=0., epsilon = 0.001):\n",
    "    sigma = np.sqrt((2./T)*np.abs(np.log(S0/(K*np.exp(-(r-q)*(T-t))))))\n",
    "    \n",
    "    while np.abs(compute_call_BS(S0, T, K, sigma, r, q, t) - CALL_MARKET) > epsilon:\n",
    "        sigma = sigma - (compute_call(S0, T, K, sigma, r, q, t) - CALL_MARKET)/(compute_vega_call(S0, T, K, r, q, t))\n",
    "    return sigma\n",
    "\n",
    "\n",
    "\n"
   ]
  }
 ],
 "metadata": {
  "kernelspec": {
   "display_name": "Python 3",
   "language": "python",
   "name": "python3"
  },
  "language_info": {
   "codemirror_mode": {
    "name": "ipython",
    "version": 3
   },
   "file_extension": ".py",
   "mimetype": "text/x-python",
   "name": "python",
   "nbconvert_exporter": "python",
   "pygments_lexer": "ipython3",
   "version": "3.9.1"
  }
 },
 "nbformat": 4,
 "nbformat_minor": 5
}
