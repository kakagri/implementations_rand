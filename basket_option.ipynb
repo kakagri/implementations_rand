{
 "cells": [
  {
   "cell_type": "code",
   "execution_count": 2,
   "id": "59785e08",
   "metadata": {},
   "outputs": [],
   "source": [
    "import numpy as np \n",
    "from scipy.stats import norm\n",
    "import matplotlib.pyplot as plt\n",
    "from mpl_toolkits.mplot3d import Axes3D\n",
    "import plotly.graph_objects as go"
   ]
  },
  {
   "cell_type": "markdown",
   "id": "f65e9d98",
   "metadata": {},
   "source": [
    "### Simulating option basket price\n",
    "$$ \\mathrm{d}S_t^k = S_t^k(r \\mathrm{d}t + \\sigma^k \\mathrm{d}W_t^k) \\textrm{ and } \\mathrm{d}<W^k,W^j>_t = \\rho \\mathrm{d}t \\textrm{ for } k\\neq j$$\n",
    "The option basket call has payoff : $$ I_T = (\\sum \\alpha_k S_T^k - K)_+ $$"
   ]
  },
  {
   "cell_type": "code",
   "execution_count": 3,
   "id": "44bfd784",
   "metadata": {},
   "outputs": [],
   "source": [
    "def simulate_basket_option(N_trajectories, confidence, alpha, rho, S0, sigmas, r, t, strike):\n",
    "    mean = np.zeros(alpha.shape[0])\n",
    "    variance_matrix = rho*np.ones((alpha.shape[0],alpha.shape[0])) + (1-rho)*np.diag(np.ones(alpha.shape[0]))  \n",
    "    prices = np.random.multivariate_normal(mean=mean, cov=variance_matrix, size=N_trajectories)\n",
    "    prices = (r-0.5*(sigmas**2.0))*t + np.sqrt(t)*sigmas*prices\n",
    "    prices = S0*np.exp(prices)\n",
    "    option_basket = np.maximum((alpha*prices).sum(axis=1) - strike, 0)\n",
    "    price = np.mean(option_basket)\n",
    "    std = np.std(option_basket)\n",
    "    confidence_interval_size = (norm.ppf((1.+confidence)/2.)*std)**2.0/N_trajectories\n",
    "    return price, std, confidence_interval_size"
   ]
  },
  {
   "cell_type": "code",
   "execution_count": null,
   "id": "d6de31c9",
   "metadata": {},
   "outputs": [],
   "source": []
  },
  {
   "cell_type": "code",
   "execution_count": 243,
   "id": "900cfdc5",
   "metadata": {},
   "outputs": [
    {
     "data": {
      "text/plain": [
       "<matplotlib.legend.Legend at 0x146d03040>"
      ]
     },
     "execution_count": 243,
     "metadata": {},
     "output_type": "execute_result"
    },
    {
     "data": {
      "image/png": "[encoded data removed]",
      "text/plain": [
       "<Figure size 432x288 with 1 Axes>"
      ]
     },
     "metadata": {
      "needs_background": "light"
     },
     "output_type": "display_data"
    }
   ],
   "source": [
    "X = [int(2**k) for k in range(12,22)]\n",
    "Y = [simulate_basket_option(N_trajectories = x, \n",
    "                       confidence = 0.95, \n",
    "                       alpha = 1./10*np.ones(10), \n",
    "                       rho = 0.5, \n",
    "                       S0 = 100*np.ones(10), \n",
    "                       sigmas = np.ones(10), \n",
    "                       r = 0.1, \n",
    "                       t = 1.0, \n",
    "                       strike =103) for x in X]\n",
    "\n",
    "estimation = np.array([y[0] for y in Y])\n",
    "confidence = np.array([y[2] for y in Y])\n",
    "\n",
    "X_1 = range(12,22)\n",
    "plt.scatter(X_1, estimation, c = 'red', label = 'mean')\n",
    "plt.scatter(X_1, estimation+confidence, c = 'blue', label = 'upper_bound')\n",
    "plt.scatter(X_1, estimation-confidence, c = 'green', label = 'lower_bound')\n",
    "plt.title('Monte carlo simulation of option basket')\n",
    "plt.xlabel('log2(N_trajectories)')\n",
    "plt.ylabel('option basket price estimation')\n",
    "plt.legend()\n",
    "\n",
    "\n",
    "\n",
    "\n"
   ]
  },
  {
   "cell_type": "code",
   "execution_count": 244,
   "id": "878f5b64",
   "metadata": {},
   "outputs": [
    {
     "data": {
      "text/plain": [
       "<Figure size 432x288 with 0 Axes>"
      ]
     },
     "metadata": {},
     "output_type": "display_data"
    }
   ],
   "source": [
    "plt.figure()\n",
    "\n",
    "x = np.linspace(90, 110, 40)\n",
    "z = np.zeros((40,40))\n",
    "for k in range(40):\n",
    "    for j in range(40):\n",
    "        S_1 = x[k]\n",
    "        S_2 = x[j]\n",
    "        z[k,j] = simulate_basket_option(N_trajectories = 100000, \n",
    "                       confidence = 0.95, \n",
    "                       alpha = np.array([0.8, 0.2]), \n",
    "                       rho = 0.5, \n",
    "                       S0 = np.array([S_1, S_2]), \n",
    "                       sigmas = np.array([0.9, 0.3]), \n",
    "                       r = 0.2, \n",
    "                       t = 1.0, \n",
    "                       strike = 100)[0]\n",
    "\n",
    "        "
   ]
  },
  {
   "cell_type": "code",
   "execution_count": 245,
   "id": "aabcdc3a",
   "metadata": {},
   "outputs": [
    {
     "data": {
      "application/vnd.plotly.v1+json": {
       "config": {
        "plotlyServerURL": "https://plot.ly"
       },
       "data": [
        {
         "type": "surface",
         "x": [
          90,
          90.51282051282051,
          91.02564102564102,
          91.53846153846153,
          92.05128205128204,
          92.56410256410257,
          93.07692307692308,
          93.58974358974359,
          94.1025641025641,
          94.61538461538461,
          95.12820512820512,
          95.64102564102564,
          96.15384615384616,
          96.66666666666667,
          97.17948717948718,
          97.6923076923077,
          98.2051282051282,
          98.71794871794872,
          99.23076923076923,
          99.74358974358974,
          100.25641025641025,
          100.76923076923077,
          101.28205128205128,
          101.7948717948718,
          102.3076923076923,
          102.82051282051282,
          103.33333333333333,
          103.84615384615384,
          104.35897435897436,
          104.87179487179488,
          105.38461538461539,
          105.8974358974359,
          106.41025641025641,
          106.92307692307692,
          107.43589743589743,
          107.94871794871796,
          108.46153846153845,
          108.97435897435898,
          109.48717948717949,
          110
         ],
         "y": [
          90,
          90.51282051282051,
          91.02564102564102,
          91.53846153846153,
          92.05128205128204,
          92.56410256410257,
          93.07692307692308,
          93.58974358974359,
          94.1025641025641,
          94.61538461538461,
          95.12820512820512,
          95.64102564102564,
          96.15384615384616,
          96.66666666666667,
          97.17948717948718,
          97.6923076923077,
          98.2051282051282,
          98.71794871794872,
          99.23076923076923,
          99.74358974358974,
          100.25641025641025,
          100.76923076923077,
          101.28205128205128,
          101.7948717948718,
          102.3076923076923,
          102.82051282051282,
          103.33333333333333,
          103.84615384615384,
          104.35897435897436,
          104.87179487179488,
          105.38461538461539,
          105.8974358974359,
          106.41025641025641,
          106.92307692307692,
          107.43589743589743,
          107.94871794871796,
          108.46153846153845,
          108.97435897435898,
          109.48717948717949,
          110
         ],
         "z": [
          [
           35.6546602541869,
           35.776160548608225,
           35.39780143149852,
           36.104164469024745,
           35.978348446387976,
           36.102116485846096,
           35.63692059123861,
           35.5577495434976,
           35.65290621621512,
           36.14698063987793,
           36.13911762806018,
           36.105178088409616,
           36.05676409582478,
           36.04972046264326,
           36.28695681044961,
           36.64144138978421,
           36.10673224213577,
           35.774242420460574,
           36.64291678051164,
           36.62541486690413,
           36.31638200584406,
           36.7742831402742,
           36.41699482797996,
           37.19081319208064,
           36.58335469808528,
           36.078368851868305,
           36.52788851508897,
           37.46954623975585,
           37.17392025834799,
           36.96941006316427,
           37.33650998842438,
           37.336844423155135,
           37.12632125654694,
           37.27859338862293,
           37.31169698932526,
           37.580920586267105,
           37.63736161749897,
           37.88805877148469,
           37.761390174641285,
           38.017686043281934
          ],
          [
           35.84440277197422,
           36.30393609645684,
           36.05387240971543,
           35.65603693545929,
           36.09475704174511,
           36.73558431876462,
           35.988301594426375,
           35.977136292217644,
           36.264748443843814,
           35.72964721788965,
           36.10877608089783,
           36.683303851248766,
           36.4124313146552,
           37.22217756669291,
           36.397269698542225,
           36.41935071198824,
           36.96542498447863,
           37.58388004946312,
           37.37086689019944,
           36.578910234318904,
           36.22131513911971,
           36.95857614360067,
           37.529971827323834,
           36.90942405253054,
           37.562486348678085,
           37.424269120180014,
           37.74192798269754,
           37.421814996056504,
           37.27034848853962,
           37.55826509881885,
           37.39533316868473,
           37.61971429273412,
           38.1687505047027,
           37.57842063720202,
           37.50599131697138,
           38.26307484396843,
           37.55645241666568,
           38.33663532297499,
           37.60331801130263,
           37.904777641261944
          ],
          [
           36.28663145395061,
           36.34550530475471,
           36.631979877376935,
           36.22790095702497,
           36.168746955691496,
           36.57309677296171,
           36.5663646883808,
           36.51097696773862,
           36.972898349381445,
           36.94299912502109,
           36.7805572928329,
           37.01889203699983,
           36.645627816613576,
           37.00167921501683,
           37.116375703792876,
           36.647936654395835,
           36.40263816502044,
           37.38256842649545,
           37.19630324666525,
           37.20639044851872,
           38.08412001786312,
           37.24387174582005,
           37.57889653691992,
           37.23579673859837,
           37.485972816553016,
           37.72233076186303,
           37.88027730885428,
           37.70297063597169,
           37.80113629315535,
           38.27380581523068,
           38.134778564142266,
           38.14539887425723,
           37.790197081405836,
           38.199976111560666,
           37.92558498498672,
           38.34681560447104,
           38.462783242566886,
           38.29079459343767,
           38.106717337489805,
           38.433648254039745
          ],
          [
           36.3869349943631,
           36.84052056345347,
           37.12615178818063,
           36.7929939572224,
           36.384889469268096,
           37.20830754888273,
           36.61800894911902,
           36.572287456518445,
           37.22717379988415,
           37.17117538772328,
           36.871825549905495,
           37.05659878054271,
           36.85963119730183,
           37.33851231487069,
           37.38856044112992,
           37.28990909952,
           37.37213821540289,
           37.4099457294455,
           37.909550712601686,
           37.76640248062323,
           37.8946880006886,
           37.816073062757106,
           37.739088323640075,
           37.223307526710734,
           37.75109693104797,
           37.65830990404059,
           38.150193874914635,
           37.157242799835316,
           37.87236337006349,
           38.052539367899136,
           38.51714722529627,
           38.082583776106326,
           38.132135757064304,
           38.26974350270316,
           38.69487181385093,
           38.360455675221544,
           38.883973293748234,
           38.527874857361965,
           38.86588714026893,
           38.490458863497345
          ],
          [
           36.73200968572029,
           37.17157116485078,
           37.342589580633174,
           37.070534569822016,
           37.34342375561916,
           36.860134991974576,
           37.048190704874166,
           37.49005057339105,
           37.22669935120704,
           37.63942758978837,
           37.64658350188493,
           37.55540006627024,
           37.242312355920944,
           37.02015099599801,
           36.954824293393166,
           37.98829950573205,
           38.35873329120221,
           37.66226453255556,
           37.43196044898471,
           38.157815634917064,
           37.6139414162151,
           38.001213566669755,
           38.082164242213175,
           38.20408088140044,
           38.11881439855737,
           38.51710407795239,
           37.90352576542003,
           38.59277969662032,
           38.39577862942749,
           38.18932500214529,
           39.04093275752491,
           38.36096926617139,
           38.72503066950006,
           38.902664985456326,
           38.10338988519932,
           38.72755640194518,
           38.836394199349535,
           38.888682311877666,
           39.11283825817913,
           38.72206393963066
          ],
          [
           37.268952169872456,
           37.43238092969026,
           37.15454007751162,
           36.834630139007,
           37.87769086142127,
           36.80804018477902,
           37.42898369291182,
           37.32941741891426,
           37.82673398651559,
           37.640542755390776,
           37.63276265805291,
           38.33190642724563,
           38.138375578962055,
           38.18770270491175,
           38.01415045459372,
           38.07341817505637,
           37.97502798080712,
           37.62597773075432,
           37.9416023856461,
           38.56853052489658,
           38.25404197263831,
           38.05114702410386,
           38.7473908432973,
           38.713453198438266,
           38.25115192815606,
           37.94601534514857,
           38.9218830050642,
           39.07048067618427,
           38.702981893653494,
           38.9636764405954,
           39.37674629874913,
           38.751421795302264,
           39.220615557253865,
           39.59859807578337,
           39.04027704488973,
           39.105945120259655,
           38.960423149763145,
           39.065202971067635,
           39.47466328568716,
           39.448753360713745
          ],
          [
           37.56214825572869,
           37.91697403711156,
           37.425243811286535,
           37.62370007321307,
           37.96728259836636,
           37.81420554571962,
           37.66678683336363,
           38.08933583991813,
           38.10371316896332,
           38.03423738830541,
           37.986405513823556,
           38.46836683097687,
           38.175306521719286,
           38.31397993039532,
           38.43745560681843,
           38.782321923586004,
           38.461094675961384,
           38.91744550889825,
           38.49352326305789,
           38.4884073646206,
           38.835797828466234,
           38.921283228970516,
           38.76831699644284,
           39.03157486746166,
           38.89186026244345,
           39.16107470510079,
           39.39559098404761,
           38.66295665630261,
           39.24746882313382,
           39.42658978714924,
           38.827933019420605,
           39.336745632262435,
           39.3786045804482,
           39.83253969322066,
           39.76461347472717,
           39.33582248659424,
           39.64777835389657,
           39.84165074417646,
           39.221432037503945,
           40.062928306776534
          ],
          [
           38.31301090456109,
           37.6681850135856,
           37.85139148372953,
           38.26109150126532,
           38.54219526556088,
           38.24709430891909,
           38.092544067843114,
           38.381181306204645,
           38.45022224315267,
           38.740649199417824,
           38.56803511285697,
           38.859658202934135,
           38.58356781837228,
           39.17165205325668,
           38.462104460118624,
           38.9995202902934,
           38.55059304933443,
           38.924029989662564,
           38.81183214712689,
           39.09658271954674,
           39.20104719078307,
           38.78425544293343,
           39.08098448180035,
           39.45887835436971,
           39.36918024478153,
           40.111087556189254,
           39.635932804176505,
           39.574663808855725,
           39.34421979441426,
           39.81265410052255,
           39.88822390543948,
           39.83250488373367,
           40.09175914038893,
           40.0883464505614,
           40.21067163103347,
           39.89733688085194,
           39.39354043414622,
           40.56394835129044,
           40.61523195969176,
           40.51772622870691
          ],
          [
           38.233721047815855,
           37.88266886285203,
           38.31401907612976,
           38.43255378993267,
           38.45603810578824,
           38.608728834300415,
           38.250242678637726,
           38.50738432135545,
           38.82557190561528,
           39.27807196611892,
           39.379730599243075,
           39.42182017879873,
           39.050938426065855,
           38.87982716810291,
           38.813137542952646,
           39.35976133092304,
           39.10650071743301,
           39.16445881907042,
           39.34281962217551,
           39.12507711175731,
           39.79177280923289,
           39.40407917437354,
           40.01010202693781,
           39.50568729629695,
           40.055290233747094,
           40.058014885836805,
           39.850162629138,
           39.653807500800944,
           39.815234100114296,
           39.817523889897046,
           40.64523607139762,
           40.19358110769901,
           40.314536733658194,
           40.4516220812661,
           40.16988845382525,
           40.22271258565224,
           40.618014870219284,
           40.32620091054513,
           40.925569958409476,
           40.052198588647016
          ],
          [
           39.13470343100427,
           38.9242685023566,
           38.392736059676864,
           39.13228809407165,
           38.29590111697923,
           38.90358687129602,
           38.759624745069885,
           39.03777282976691,
           39.26599093984856,
           39.54458879817492,
           39.625069652641976,
           39.16222022277609,
           39.547205550202335,
           39.471674380018634,
           39.65575223818173,
           39.54230600926655,
           39.720797608043725,
           39.393887290751245,
           39.80108058194915,
           39.52216374787232,
           39.79297180987544,
           39.63956761957865,
           40.14900876134915,
           40.07722975863632,
           40.26723052023216,
           40.12696034460829,
           40.2910875763768,
           40.398469835226756,
           40.24467883474277,
           39.97873813699149,
           40.730530780624086,
           40.548127020847495,
           40.64878016505343,
           40.72117515707426,
           40.800505245012594,
           40.67104638642105,
           40.6489265382994,
           41.03205785820355,
           40.51689431840592,
           40.99520864658734
          ],
          [
           39.3064446748122,
           38.93751361763213,
           39.006866294638904,
           39.446516413358395,
           39.07901184202728,
           39.75086842143566,
           39.55028065242322,
           39.20386997725725,
           39.42799272573145,
           39.85991548816809,
           39.98006247074387,
           40.24405340153764,
           39.90576088545686,
           39.32051486983165,
           40.15657951942849,
           39.98213747881562,
           40.38412897147575,
           40.28288044181551,
           39.977370557319986,
           40.039501431341364,
           40.2213673063582,
           40.2721234218817,
           40.60171808790415,
           40.18825483025362,
           40.3715225723545,
           40.19825424555938,
           40.76276681572394,
           41.020425695150436,
           40.8452507954894,
           40.15400292830653,
           40.906941194552395,
           41.443337801581585,
           41.502917824679905,
           40.83347272600297,
           41.097248729665715,
           41.22524803334679,
           41.77081306967658,
           40.86203509478311,
           41.4473028204673,
           41.24765034513934
          ],
          [
           39.03015054603966,
           39.95759126333671,
           39.526531561579624,
           39.72840929868311,
           39.681122332371224,
           39.58017342719747,
           39.76766396360374,
           39.245129060054275,
           39.670712083485235,
           40.20159746909616,
           40.46782465281119,
           40.4367663658127,
           40.187883496572596,
           40.49506335536472,
           40.08984123527068,
           40.15947955895823,
           40.03750444924653,
           40.83716756513998,
           40.263683785965036,
           40.94210739069182,
           40.468670327819495,
           41.36767305213112,
           40.725288369029656,
           41.294520472290806,
           40.77826267969695,
           40.89517193714924,
           41.06129449499491,
           41.32867007517954,
           41.19946704853782,
           41.1906825667067,
           41.29643626006915,
           41.22392021145516,
           41.14695211961053,
           41.36747442481689,
           41.269957642413104,
           41.41456694620621,
           41.89328009574106,
           41.5049017338417,
           42.26676932655963,
           42.281035142194284
          ],
          [
           39.22830846162731,
           39.6420213066684,
           39.86303930404875,
           39.65645441068779,
           40.20258652838111,
           40.89255365486598,
           40.06508652471166,
           40.05403015825892,
           40.01132748819834,
           39.90751360203135,
           40.418376391967335,
           40.55063417072967,
           40.62510823376819,
           41.189401635878774,
           40.41170459061679,
           40.463202878940145,
           41.20499607809944,
           41.27248788940722,
           41.037314437849325,
           41.06450506566302,
           41.11038854962636,
           41.26678704151661,
           41.488809623039,
           40.96864109089949,
           41.33084706441942,
           41.414812376360246,
           41.24566154005433,
           41.67448883288053,
           41.65582177152552,
           41.61273750252387,
           41.75909164976645,
           41.64951384366439,
           42.24860919108358,
           42.22424453533843,
           42.0539178684785,
           42.09895078819965,
           42.477426547227644,
           42.492107645884474,
           42.0996383510957,
           42.54287770387971
          ],
          [
           40.632010376664425,
           39.786671641454355,
           40.237721066261415,
           40.73001800368732,
           40.72164094486895,
           40.35421585125975,
           40.387852685724454,
           40.19694970619497,
           40.70534396752913,
           40.94466647204756,
           40.68975803741509,
           40.64026251653455,
           40.47904163929485,
           41.26397199890148,
           41.47272833464648,
           41.36203810355816,
           41.121239347539934,
           41.47952195820568,
           41.51814675371423,
           41.55244057773618,
           42.2367471798989,
           41.34105978521647,
           42.28789727819842,
           42.13288585463573,
           41.594277097974235,
           41.23335349759838,
           42.30698356710231,
           42.481410925369225,
           42.63066056764495,
           41.47933568186887,
           42.214440642565044,
           42.00266410918586,
           42.043310669199386,
           41.773880366162025,
           41.87451194393673,
           41.960082914633226,
           41.937716889591314,
           42.83824927661586,
           42.65552794544191,
           42.727701173490566
          ],
          [
           41.12698050917487,
           40.90107378176366,
           40.96218183247141,
           40.7688522602637,
           41.12874579483186,
           41.022813210174654,
           40.887117489965256,
           40.96584920752877,
           40.67541084262351,
           41.04067974031216,
           41.35217498824392,
           41.3506681400877,
           40.860672619848124,
           41.29091588845113,
           41.3480514172347,
           41.463392391451656,
           41.41259122606089,
           41.83179560919109,
           41.14083453948151,
           42.02026682988501,
           41.676711924602174,
           41.67786309196815,
           42.02715036426429,
           41.711858728263806,
           42.0372182989578,
           42.13241534204276,
           42.085391283024215,
           41.91987595517069,
           42.105466596572604,
           42.58658055391294,
           42.43153604138464,
           42.58219847058877,
           42.57824345482612,
           42.796711021750774,
           42.62379299527946,
           42.83921398784105,
           42.597049979281,
           42.68446104911376,
           43.029029065672525,
           43.01572851430513
          ],
          [
           40.27022277029438,
           40.85076577570266,
           40.886196235443535,
           41.21978452249977,
           41.731480992844915,
           41.31673655204878,
           40.96081912539995,
           41.66887588133681,
           41.33752624847175,
           41.600382108644084,
           41.66668024329371,
           41.824348972285854,
           42.022712435481736,
           41.137276529282296,
           41.80869341004081,
           41.85979568506185,
           42.01340034247722,
           41.28977354416071,
           42.202825490930515,
           41.8900247964941,
           41.84727924725996,
           42.01636813955504,
           42.94766181326297,
           42.12963514611892,
           42.426911437068775,
           42.089839005861364,
           42.69594054468319,
           43.23050880302126,
           42.971908342175986,
           43.258620782138166,
           41.790010586150764,
           42.930022412579866,
           42.13842313974745,
           43.03377211358986,
           43.52447690224885,
           43.16881918730643,
           42.47374322434033,
           43.041460211676714,
           43.08396092665584,
           43.587183842851154
          ],
          [
           41.327787559113645,
           41.131474723355176,
           41.485400054800685,
           41.88948613640424,
           41.301495401096304,
           41.58306732541861,
           41.692897154348024,
           41.8978480961063,
           42.41470666795678,
           42.113695884121846,
           41.62667794615892,
           42.156970201172605,
           42.09939329208821,
           41.74006331843569,
           42.65615332929299,
           42.4300656407721,
           42.068769536082826,
           42.649819639760814,
           42.64856763845047,
           42.822758792052774,
           42.29510497495496,
           42.76987464469594,
           42.708509799801604,
           42.42122031513156,
           42.83587524115158,
           42.31007612762738,
           42.87805061327233,
           43.22129545108944,
           42.849049201965535,
           43.25949970618247,
           43.11840758010665,
           43.03717571774562,
           43.97899801786771,
           43.096431240148576,
           43.42988644494664,
           43.61263532433316,
           43.37323542153787,
           43.30304707461729,
           43.130450186372364,
           43.80168526906334
          ],
          [
           41.95478452254803,
           41.75156949262714,
           42.06480376871188,
           41.655588958763374,
           41.95804306295631,
           42.27544410173282,
           41.673255051042,
           42.538906208060254,
           42.50664634394798,
           42.76570431152003,
           42.228079767596384,
           41.86582293892682,
           42.460422552549794,
           41.89351830852991,
           43.55739273453459,
           42.5349851781541,
           42.957017394068494,
           42.98998571727106,
           42.781184389685045,
           43.09061505951731,
           42.837451080948625,
           43.61931941822915,
           42.86993668529421,
           43.05667401351892,
           43.072924450735655,
           43.083468104860586,
           43.268368386965996,
           43.75242260304202,
           43.52780353877674,
           43.574471946174775,
           43.746689931278574,
           43.73377562955893,
           43.12902285754682,
           43.90797796568711,
           43.551866159891176,
           43.51034678190238,
           43.57265359437116,
           44.03296905990895,
           43.940186079312525,
           44.165306798517015
          ],
          [
           42.21958618576559,
           41.841864953757074,
           41.96764801521955,
           41.91996083184355,
           41.688024836341285,
           42.363211966021176,
           42.11980294540424,
           41.710200532459915,
           42.27101095686008,
           43.363339459205164,
           42.96604246246017,
           42.47473849115895,
           42.87340829183571,
           42.71993455859478,
           42.614922322617524,
           43.58577752958416,
           42.858748839980514,
           42.87060007563434,
           43.17597590863401,
           43.05898412918222,
           43.0814299258757,
           43.868016445011605,
           43.961223676668915,
           43.41401499624441,
           43.094816088131545,
           43.50015188421221,
           43.78886777266962,
           44.28731841636842,
           44.036561690065085,
           44.34364302427068,
           43.80000660727025,
           44.12022232131161,
           44.243609702147076,
           43.92909160634295,
           43.743680017978924,
           44.200841685528744,
           44.378961015367864,
           44.63312331954551,
           44.8393340859837,
           44.45940839477625
          ],
          [
           42.89556772712967,
           41.97360060810088,
           42.6516206767836,
           42.916467095355884,
           43.273367567964186,
           42.997382079465176,
           43.0092228036881,
           43.12555642873773,
           43.261345141220254,
           43.478143622324986,
           43.12545301585761,
           42.84386341463041,
           42.76216942872669,
           43.87561764590901,
           42.89052031476406,
           43.90329105923828,
           43.84594267877127,
           43.24076716189648,
           43.89716873646366,
           43.26778616712973,
           44.099363278451705,
           43.918731986818614,
           43.876633323517936,
           44.29879570939009,
           43.76396683554331,
           43.83547402816188,
           44.004400726181046,
           44.492911109398214,
           44.330441729066614,
           44.39400855914453,
           44.71397590673706,
           44.48648204157781,
           44.28949831647119,
           44.63521939536595,
           45.4838096655165,
           44.07810581439787,
           44.25306306967912,
           45.060647459897204,
           44.905707739079084,
           45.05119128198072
          ],
          [
           43.60775967193142,
           43.356399565300194,
           42.76266426520282,
           42.95990394622607,
           42.72192047317003,
           43.00243330633897,
           43.40004618114283,
           43.097479375238514,
           42.902457386497666,
           43.79864959635401,
           43.30668914506388,
           43.276265658912195,
           43.47281551612711,
           43.795440377855556,
           43.75912283124183,
           44.037672489025006,
           43.72827664104956,
           43.863119993844215,
           44.05039602946553,
           44.12897983438287,
           43.726595605206896,
           44.36144397637591,
           44.548925894412406,
           44.26663682982554,
           44.58075177391705,
           44.637416844419185,
           44.41665685366652,
           44.91833640225058,
           44.84896034642856,
           44.74855793954849,
           44.973036181388004,
           44.70392086655213,
           45.02037863133133,
           44.738102743455435,
           44.634856712986945,
           45.329138162250075,
           45.36362169363303,
           45.155755488322086,
           44.486701493980235,
           45.65245098396827
          ],
          [
           43.39671939996337,
           43.053653521613434,
           43.15921618560747,
           43.46666993781725,
           43.595238272661774,
           43.97418038597871,
           44.230391042422,
           43.90921922544656,
           43.90765520525761,
           43.49282247377057,
           43.94381004627454,
           43.77385009808859,
           44.37717998505947,
           44.05127349921747,
           43.76048100016498,
           43.891033464742534,
           43.99353293053428,
           43.95000819703859,
           44.41628817742955,
           44.72711161281257,
           44.687077046773034,
           43.800627795986266,
           44.50504002284839,
           44.951979329202594,
           44.49266290127754,
           44.89702723037453,
           44.77016810941341,
           45.0885095906661,
           44.83886826738171,
           45.16427900094097,
           45.286552538597675,
           45.24620037246149,
           45.34941900233938,
           45.37528075552115,
           45.50669855217104,
           45.04344481523063,
           45.621321478733414,
           45.399980845497325,
           45.65549888181304,
           45.888847677305236
          ],
          [
           44.19592435509042,
           43.311165887691004,
           43.48476887482201,
           43.60998993469838,
           43.54325691121694,
           43.5642813764331,
           43.67876408747441,
           43.8972338030035,
           44.33668003633301,
           44.24551149826298,
           44.71923648476748,
           44.086182582030965,
           44.22223096228012,
           44.5204577885334,
           44.72187692774755,
           44.28474272350368,
           45.044984592510026,
           44.17145516647038,
           43.91196075251101,
           44.527442604426284,
           44.7435286661255,
           44.96847210356132,
           45.75219476025042,
           44.87267646906681,
           44.94327335957079,
           45.544482233399286,
           45.26898944019755,
           45.2908620718949,
           45.312357407915236,
           45.12636670471154,
           45.085969043250095,
           45.42969984557486,
           45.89202617209244,
           45.744514416613214,
           45.87745105183367,
           46.00032507033805,
           46.19822033445569,
           46.26080343398153,
           45.80747338174842,
           46.68890328537879
          ],
          [
           44.97722025243404,
           44.11118514970871,
           44.54036552018137,
           43.87626877397994,
           44.02189541438178,
           44.5516745555048,
           44.420634488348234,
           45.151026983636676,
           44.648407324753954,
           44.78009350480011,
           44.91941729621186,
           44.68886317717746,
           44.45613823911056,
           44.77385293129582,
           45.22725645080734,
           44.637643045542,
           44.5282396943607,
           45.58090801215753,
           45.11332083673864,
           45.334822615978716,
           45.443481999422794,
           45.373635102930145,
           45.300074619257195,
           45.53779242159242,
           45.40059225361136,
           45.85379900342036,
           46.13100734521416,
           45.72063666893932,
           46.18880827668023,
           46.45768425835031,
           45.496955791264085,
           46.689095812755724,
           45.73807859869226,
           46.38273238848442,
           45.944192856837326,
           45.30719447973247,
           46.19872020715136,
           46.55207482133487,
           46.15255889676182,
           46.47066380003468
          ],
          [
           44.27980849185076,
           44.45380539993626,
           44.34639353642434,
           44.68433591908819,
           44.712458116203855,
           43.869501966217214,
           44.37293081438205,
           45.26075537602312,
           44.948468172584036,
           45.08673974095847,
           45.654006402000206,
           45.237370060498954,
           45.37798609009785,
           45.16436821027397,
           45.92181484592532,
           45.7424246532244,
           44.90645052983361,
           45.437765217938896,
           45.40732160390351,
           45.50034867441702,
           45.22512314147054,
           45.817885736531366,
           45.81418434855775,
           46.13799245465667,
           45.35334006854748,
           46.24788988471793,
           45.93076169901852,
           46.29574399922192,
           46.08987161971723,
           46.35276165677432,
           46.27222447605059,
           46.20108843649265,
           46.04004678166409,
           46.463150142970846,
           47.033771857159174,
           46.75248001875209,
           46.74739911731095,
           46.73677574302681,
           47.331601602995526,
           47.39948655139542
          ],
          [
           44.84151435440642,
           44.80280726779758,
           44.782330997513384,
           44.88867781837301,
           45.15327008875444,
           45.22755271369733,
           44.84317298015397,
           45.609720698801,
           45.02879500086815,
           45.17191004795001,
           45.53250055021253,
           45.944367685589306,
           45.00645081550028,
           45.758392427604946,
           45.354014891550214,
           45.7035751442619,
           45.60555318343297,
           45.554396359341425,
           45.50491229557329,
           46.14969570196037,
           46.200965433370946,
           45.85352491147276,
           46.08310166905823,
           46.04952694333099,
           46.580349165734155,
           47.26374478505126,
           46.882641173235776,
           46.363703534817546,
           47.10424486807636,
           46.15670575367061,
           46.739285800965696,
           47.12998859052032,
           46.560487157959145,
           46.926125338313824,
           46.512203460919324,
           47.59806135272705,
           46.97075114881959,
           47.37494040030057,
           46.76458003469923,
           47.56464795361038
          ],
          [
           45.10541512599757,
           45.62698199290222,
           46.04299812580561,
           45.7926817602584,
           45.27204794101079,
           45.78298099985159,
           45.28547144134242,
           45.545595797313915,
           46.04415644599104,
           45.79704775617525,
           46.34291255554775,
           45.775617452249676,
           45.924398177325486,
           46.52744427740827,
           45.5628557275201,
           46.25653655000736,
           46.77548713773512,
           46.21912935577729,
           45.81151358573071,
           46.378301957664185,
           46.410984114967974,
           46.43198816507177,
           46.52076962193993,
           46.251843404562266,
           46.80774420809978,
           46.64921013822097,
           46.6074042162495,
           47.08705951177986,
           47.00946851497667,
           46.63298667192108,
           47.45057030212949,
           47.660201763813745,
           47.40546334868186,
           47.25344974491087,
           47.09423446196056,
           47.23776577977375,
           47.634532546582335,
           47.615132117016984,
           47.76927261393702,
           47.629612746258836
          ],
          [
           45.235481334179724,
           45.533238737799444,
           45.57153947111031,
           45.886905116329174,
           45.56243442034415,
           45.421182796568395,
           46.00448894261791,
           45.569007146009355,
           45.64563444806776,
           45.976980314140135,
           45.961880281116244,
           46.240448554434764,
           45.98033340283191,
           46.69082477756496,
           45.85922692410904,
           46.14967875689763,
           46.33986991903772,
           46.35357359791545,
           46.741061763206346,
           46.24747394433841,
           46.42489687822176,
           47.20279019993028,
           47.197678414704896,
           47.17154726083002,
           47.429477262575084,
           46.91320878729938,
           46.921516918535765,
           47.250632496558644,
           46.91118012425263,
           47.3409250336106,
           47.40901674347064,
           47.246735885533745,
           47.88023558345817,
           47.77240208515933,
           47.839865041830556,
           47.52997337615846,
           47.92135683116665,
           47.83031855148196,
           48.12013723715977,
           47.919086813879346
          ],
          [
           45.62836756362973,
           46.338302509982555,
           46.0222807449912,
           46.00862051593632,
           46.556046227482696,
           46.71648168818575,
           46.25585208260276,
           46.64499518767032,
           46.61149140505892,
           46.33192433538617,
           46.53094909384368,
           46.67697602934145,
           46.293576093022814,
           46.49909367915021,
           46.44341608035253,
           47.0240802688674,
           47.18256034245199,
           47.57749822708798,
           46.74340892962675,
           47.13747683860668,
           47.17791376057079,
           47.0480167155172,
           48.27760777946559,
           47.33724989431849,
           47.4737007696115,
           47.15112778281767,
           47.958646315070595,
           48.108439939489955,
           47.54033071944644,
           47.96766893896554,
           47.527924823042,
           48.51692132893514,
           48.06678929442454,
           48.334758558647096,
           47.74466343848655,
           48.27642216515585,
           48.204441612567415,
           47.986459264397865,
           48.41597245236733,
           48.29628399858655
          ],
          [
           46.41030921203557,
           46.553303177630774,
           46.71703367949973,
           46.23159957895603,
           46.53834560556594,
           46.624117862370554,
           46.19685361138075,
           47.22117530354184,
           46.613619712114186,
           46.66169805249455,
           47.128669120792274,
           47.25565026240663,
           46.993443459233056,
           47.02530158794939,
           47.267161849496354,
           47.120125206082854,
           47.22859897055543,
           47.80381256527248,
           47.52869554341526,
           47.78676723450817,
           47.76671670953037,
           47.690582541082,
           48.027395044159015,
           47.58898018808883,
           47.89165856660344,
           48.08359291949018,
           47.712280988777735,
           47.597361486711904,
           48.24359405645522,
           48.703078895524165,
           48.65496046357876,
           48.248601007691455,
           48.739943638871985,
           48.12915038804984,
           48.68364918925098,
           49.46332834849899,
           48.26409951403845,
           48.87804985952853,
           48.35455170739577,
           48.76024303563522
          ],
          [
           46.238451502016254,
           47.635765274076945,
           47.060921886986606,
           47.17140837822067,
           46.981981392164016,
           47.30867972457899,
           46.72687210131564,
           47.185214521321825,
           47.37920495855798,
           47.60612926475349,
           46.982828579963645,
           47.466595143541966,
           46.749081087014034,
           47.454111693665695,
           47.40977691166534,
           47.152200277466775,
           47.674019882201634,
           47.95646930228832,
           47.5447472634444,
           47.71036161086816,
           48.191183118106565,
           47.80553339760136,
           48.457097006525615,
           48.631531039940995,
           48.03969808132628,
           48.52517241110207,
           48.77601367189847,
           48.50196523579755,
           48.50349094020265,
           48.63069026021883,
           49.55904295584151,
           49.14008617718858,
           48.539177438123914,
           49.243243245100075,
           49.316667178746115,
           49.055098067161495,
           49.0944678665573,
           48.819594959632916,
           49.34612120182733,
           49.47217198167856
          ],
          [
           47.26437892005587,
           47.084383424633785,
           47.55315950674983,
           47.03145895976537,
           46.9030633322989,
           47.693531767200895,
           46.86814247117599,
           47.58539681026421,
           48.309710748527635,
           47.26811826755946,
           48.22984869121851,
           47.35635710261214,
           47.802747898890786,
           47.7527412126439,
           48.44206678529074,
           47.990287122874975,
           47.64556416225929,
           47.957782733852035,
           48.125924529777656,
           47.54680678935513,
           48.2407835895816,
           48.131594258436586,
           48.356078949958395,
           48.81722722894879,
           48.78083797366207,
           48.413162277802705,
           48.75433804689983,
           48.48901397022489,
           48.556719127624476,
           49.5344869878224,
           49.38264081154359,
           49.04812469012039,
           48.929997773046104,
           49.297075360014944,
           49.345227400371556,
           49.138706572547804,
           49.3974652973592,
           49.52270006497357,
           49.68190593898441,
           50.25494720572466
          ],
          [
           47.30228045866802,
           47.54578245695697,
           47.73568173825923,
           48.216653158376424,
           47.538817078334354,
           48.506380763947114,
           48.53842424492897,
           47.89991099081883,
           48.4441657973871,
           48.28371188994519,
           48.79020480999516,
           48.81259646499602,
           47.844716697188325,
           48.61721742456626,
           48.61090819893597,
           48.085813781064196,
           48.5207320957508,
           48.64437150256262,
           48.67572455656222,
           49.17062836454731,
           49.15458287467024,
           49.15659782046536,
           49.077334908513556,
           49.28512042537744,
           49.021052885949565,
           49.01742614679069,
           48.90239305652867,
           49.52540141700874,
           49.361272123801506,
           49.76141997271547,
           50.08326830080154,
           50.42086221219291,
           49.248203427078415,
           49.74142056056828,
           49.59022297255216,
           50.09905725797165,
           50.403226719736786,
           49.96369615129353,
           49.85264230340932,
           50.21633123717863
          ],
          [
           47.84563226283047,
           48.388780558938215,
           48.598393191592166,
           48.371738384668056,
           47.77864638509436,
           48.294639889074276,
           48.2670233268445,
           48.04996071691298,
           48.51378400509482,
           48.494359412204155,
           48.96559965633364,
           47.84077900747134,
           48.516870392494454,
           48.34579134468547,
           48.20526517789582,
           48.9388623395943,
           49.208242840878505,
           48.24326144116912,
           48.45645350145971,
           49.36240333865328,
           49.09660542503764,
           49.30838983304876,
           49.37035463439459,
           49.06618367071442,
           49.640203592645676,
           49.13853122189939,
           49.54076443326036,
           49.736600854864164,
           49.16060289813131,
           49.75993825944236,
           49.32190167162088,
           50.22545022777213,
           50.48713363617517,
           49.72720859909284,
           49.881062307536446,
           50.10800242457292,
           51.02598161225906,
           50.81023441378,
           51.222413202287456,
           50.14049316961591
          ],
          [
           47.824585122667166,
           48.104783884180264,
           48.32031994843102,
           48.43466013206862,
           48.77944772356464,
           48.68447271733826,
           48.355157418453274,
           48.26827342670568,
           48.79527518518337,
           48.603809826268126,
           48.65878192589653,
           48.57492798164874,
           48.88727260975171,
           49.85086050867949,
           49.746993716181464,
           49.197438026629015,
           49.28275941298804,
           49.91726368579171,
           49.19871517200727,
           49.19345810784888,
           49.254254188246385,
           49.51343822470266,
           49.55062672979532,
           49.626885566683335,
           49.779280123301696,
           49.37164752666667,
           49.55750747133944,
           50.33728509338567,
           50.106898952095726,
           50.75138440197297,
           50.2002094071473,
           50.47027387058009,
           50.62020458334337,
           50.36983821221322,
           49.87226339776409,
           50.317837193469664,
           51.28558828324512,
           50.972358431493625,
           51.2820076132554,
           50.762580144324616
          ],
          [
           48.86214515893963,
           48.34552896264386,
           48.925059262210674,
           49.01073575087292,
           48.547191989179886,
           48.662724655880936,
           49.044742586811694,
           48.91582324201662,
           49.2086442382728,
           49.09732544612509,
           49.317751274485495,
           49.486935154834526,
           49.40411711956447,
           49.42195811164286,
           49.40231945585637,
           49.79178481966174,
           50.26798635639615,
           49.49238169895323,
           49.923010971824844,
           50.41844346174782,
           49.82744456428751,
           50.06313412549213,
           50.07721821809205,
           50.021904722483,
           50.146912612882566,
           50.25967185475159,
           50.297754732501375,
           50.004335100481526,
           50.3471365967154,
           50.446985138426435,
           50.764378082259064,
           50.744170198222285,
           50.509653863220635,
           50.57750176101231,
           51.34262199306681,
           51.0807838521758,
           50.92232971586479,
           51.57835759877844,
           50.72493404946587,
           51.61967716610126
          ],
          [
           48.512739539855396,
           49.09175674168361,
           48.95038771170674,
           49.01164629416183,
           49.475370317911796,
           49.75505899617076,
           49.389268161731756,
           49.1666471385707,
           48.96852892595846,
           49.84557841660388,
           50.04096582669534,
           49.83207312444869,
           49.5052232823695,
           49.87855634210992,
           50.427448278369155,
           50.336322359595194,
           50.6584239573205,
           50.28632475869828,
           50.61538870341784,
           50.26157719494798,
           50.85941194129336,
           50.62101074388862,
           50.69068675848542,
           50.74833458353703,
           50.642574766963484,
           50.42102487633994,
           50.52557899154256,
           50.81135221885722,
           51.055459234493405,
           50.98700687125486,
           51.575098025019855,
           51.53928767583254,
           51.14049267818172,
           52.07129024316025,
           51.08824926833265,
           51.657951426262564,
           51.58468413463891,
           51.855071686457705,
           51.77405056641265,
           51.162082097741894
          ],
          [
           48.87459829646282,
           49.25360255167767,
           48.94576543451629,
           50.49729003188508,
           49.536491898963014,
           49.96165018065139,
           50.302682701652984,
           49.63401113066872,
           49.78623950828339,
           49.8394943322623,
           50.080530866173355,
           50.37060127355415,
           49.96353124632625,
           50.35075279121272,
           50.2599955376563,
           50.57943135164765,
           50.957193078838486,
           50.67280221573527,
           50.549477173792795,
           50.70714782708903,
           50.96011516915831,
           51.08243592222589,
           51.10865955403457,
           51.90767418994322,
           50.96715356463019,
           50.99742336792633,
           51.01962393682478,
           51.03673771926259,
           51.635499426533094,
           51.35050373387558,
           51.00609785632639,
           50.768508034314934,
           51.51297646851271,
           51.8621026916237,
           51.76313051421734,
           51.56734456158893,
           51.62467135070869,
           51.978011342754755,
           51.740817846109,
           52.15489483974699
          ],
          [
           50.046553107023534,
           49.830626720848336,
           50.67442350032898,
           49.89363695972095,
           49.66515640017637,
           49.80594053828111,
           50.41588099076094,
           50.28066887934545,
           49.50927066202962,
           50.25393815461322,
           50.18499688023948,
           50.93742463087066,
           50.356145975264184,
           50.37806997059632,
           50.599834776042236,
           50.54514079618521,
           50.93570910212433,
           51.51167133567859,
           50.88034172994006,
           51.60637963023051,
           51.158973007354064,
           51.56586937952768,
           51.21088259553962,
           51.100897245003985,
           51.41129682570892,
           51.58633590701975,
           51.40733297889866,
           52.02050258649457,
           51.528663278200646,
           51.65497860174781,
           51.681747026369756,
           51.66235059416268,
           52.06861185123678,
           51.80835991700796,
           52.103651947881445,
           52.13570117333601,
           52.2312676448962,
           52.51393672584704,
           52.69109505618119,
           52.4793989973047
          ],
          [
           50.86335418432521,
           50.07061796796785,
           49.443661810112474,
           50.760753299595684,
           50.652027245540836,
           49.85341963508256,
           51.06453916181532,
           51.28136222141739,
           50.771013329223415,
           50.46999612198775,
           51.185037848090715,
           51.05534538556343,
           50.83768179579707,
           50.97297706372093,
           51.850628492407495,
           51.71522771339397,
           50.95139176407883,
           50.85031783869297,
           51.082320540955045,
           51.70821308508081,
           52.13616891222665,
           51.124712011277104,
           51.7741350586992,
           52.271660433399624,
           51.29671306900401,
           51.07750877538821,
           51.712956230511416,
           52.04784693126239,
           52.39648823168102,
           52.30616024951768,
           52.4968661716777,
           52.38278111158525,
           52.35806995689739,
           52.519343568862695,
           53.251091132286604,
           52.09775009223995,
           52.34121117759818,
           52.89757154096354,
           53.19010093591594,
           53.06772574339813
          ]
         ]
        }
       ],
       "layout": {
        "template": {
         "data": {
          "bar": [
           {
            "error_x": {
             "color": "#2a3f5f"
            },
            "error_y": {
             "color": "#2a3f5f"
            },
            "marker": {
             "line": {
              "color": "#E5ECF6",
              "width": 0.5
             }
            },
            "type": "bar"
           }
          ],
          "barpolar": [
           {
            "marker": {
             "line": {
              "color": "#E5ECF6",
              "width": 0.5
             }
            },
            "type": "barpolar"
           }
          ],
          "carpet": [
           {
            "aaxis": {
             "endlinecolor": "#2a3f5f",
             "gridcolor": "white",
             "linecolor": "white",
             "minorgridcolor": "white",
             "startlinecolor": "#2a3f5f"
            },
            "baxis": {
             "endlinecolor": "#2a3f5f",
             "gridcolor": "white",
             "linecolor": "white",
             "minorgridcolor": "white",
             "startlinecolor": "#2a3f5f"
            },
            "type": "carpet"
           }
          ],
          "choropleth": [
           {
            "colorbar": {
             "outlinewidth": 0,
             "ticks": ""
            },
            "type": "choropleth"
           }
          ],
          "contour": [
           {
            "colorbar": {
             "outlinewidth": 0,
             "ticks": ""
            },
            "colorscale": [
             [
              0,
              "#0d0887"
             ],
             [
              0.1111111111111111,
              "#46039f"
             ],
             [
              0.2222222222222222,
              "#7201a8"
             ],
             [
              0.3333333333333333,
              "#9c179e"
             ],
             [
              0.4444444444444444,
              "#bd3786"
             ],
             [
              0.5555555555555556,
              "#d8576b"
             ],
             [
              0.6666666666666666,
              "#ed7953"
             ],
             [
              0.7777777777777778,
              "#fb9f3a"
             ],
             [
              0.8888888888888888,
              "#fdca26"
             ],
             [
              1,
              "#f0f921"
             ]
            ],
            "type": "contour"
           }
          ],
          "contourcarpet": [
           {
            "colorbar": {
             "outlinewidth": 0,
             "ticks": ""
            },
            "type": "contourcarpet"
           }
          ],
          "heatmap": [
           {
            "colorbar": {
             "outlinewidth": 0,
             "ticks": ""
            },
            "colorscale": [
             [
              0,
              "#0d0887"
             ],
             [
              0.1111111111111111,
              "#46039f"
             ],
             [
              0.2222222222222222,
              "#7201a8"
             ],
             [
              0.3333333333333333,
              "#9c179e"
             ],
             [
              0.4444444444444444,
              "#bd3786"
             ],
             [
              0.5555555555555556,
              "#d8576b"
             ],
             [
              0.6666666666666666,
              "#ed7953"
             ],
             [
              0.7777777777777778,
              "#fb9f3a"
             ],
             [
              0.8888888888888888,
              "#fdca26"
             ],
             [
              1,
              "#f0f921"
             ]
            ],
            "type": "heatmap"
           }
          ],
          "heatmapgl": [
           {
            "colorbar": {
             "outlinewidth": 0,
             "ticks": ""
            },
            "colorscale": [
             [
              0,
              "#0d0887"
             ],
             [
              0.1111111111111111,
              "#46039f"
             ],
             [
              0.2222222222222222,
              "#7201a8"
             ],
             [
              0.3333333333333333,
              "#9c179e"
             ],
             [
              0.4444444444444444,
              "#bd3786"
             ],
             [
              0.5555555555555556,
              "#d8576b"
             ],
             [
              0.6666666666666666,
              "#ed7953"
             ],
             [
              0.7777777777777778,
              "#fb9f3a"
             ],
             [
              0.8888888888888888,
              "#fdca26"
             ],
             [
              1,
              "#f0f921"
             ]
            ],
            "type": "heatmapgl"
           }
          ],
          "histogram": [
           {
            "marker": {
             "colorbar": {
              "outlinewidth": 0,
              "ticks": ""
             }
            },
            "type": "histogram"
           }
          ],
          "histogram2d": [
           {
            "colorbar": {
             "outlinewidth": 0,
             "ticks": ""
            },
            "colorscale": [
             [
              0,
              "#0d0887"
             ],
             [
              0.1111111111111111,
              "#46039f"
             ],
             [
              0.2222222222222222,
              "#7201a8"
             ],
             [
              0.3333333333333333,
              "#9c179e"
             ],
             [
              0.4444444444444444,
              "#bd3786"
             ],
             [
              0.5555555555555556,
              "#d8576b"
             ],
             [
              0.6666666666666666,
              "#ed7953"
             ],
             [
              0.7777777777777778,
              "#fb9f3a"
             ],
             [
              0.8888888888888888,
              "#fdca26"
             ],
             [
              1,
              "#f0f921"
             ]
            ],
            "type": "histogram2d"
           }
          ],
          "histogram2dcontour": [
           {
            "colorbar": {
             "outlinewidth": 0,
             "ticks": ""
            },
            "colorscale": [
             [
              0,
              "#0d0887"
             ],
             [
              0.1111111111111111,
              "#46039f"
             ],
             [
              0.2222222222222222,
              "#7201a8"
             ],
             [
              0.3333333333333333,
              "#9c179e"
             ],
             [
              0.4444444444444444,
              "#bd3786"
             ],
             [
              0.5555555555555556,
              "#d8576b"
             ],
             [
              0.6666666666666666,
              "#ed7953"
             ],
             [
              0.7777777777777778,
              "#fb9f3a"
             ],
             [
              0.8888888888888888,
              "#fdca26"
             ],
             [
              1,
              "#f0f921"
             ]
            ],
            "type": "histogram2dcontour"
           }
          ],
          "mesh3d": [
           {
            "colorbar": {
             "outlinewidth": 0,
             "ticks": ""
            },
            "type": "mesh3d"
           }
          ],
          "parcoords": [
           {
            "line": {
             "colorbar": {
              "outlinewidth": 0,
              "ticks": ""
             }
            },
            "type": "parcoords"
           }
          ],
          "pie": [
           {
            "automargin": true,
            "type": "pie"
           }
          ],
          "scatter": [
           {
            "marker": {
             "colorbar": {
              "outlinewidth": 0,
              "ticks": ""
             }
            },
            "type": "scatter"
           }
          ],
          "scatter3d": [
           {
            "line": {
             "colorbar": {
              "outlinewidth": 0,
              "ticks": ""
             }
            },
            "marker": {
             "colorbar": {
              "outlinewidth": 0,
              "ticks": ""
             }
            },
            "type": "scatter3d"
           }
          ],
          "scattercarpet": [
           {
            "marker": {
             "colorbar": {
              "outlinewidth": 0,
              "ticks": ""
             }
            },
            "type": "scattercarpet"
           }
          ],
          "scattergeo": [
           {
            "marker": {
             "colorbar": {
              "outlinewidth": 0,
              "ticks": ""
             }
            },
            "type": "scattergeo"
           }
          ],
          "scattergl": [
           {
            "marker": {
             "colorbar": {
              "outlinewidth": 0,
              "ticks": ""
             }
            },
            "type": "scattergl"
           }
          ],
          "scattermapbox": [
           {
            "marker": {
             "colorbar": {
              "outlinewidth": 0,
              "ticks": ""
             }
            },
            "type": "scattermapbox"
           }
          ],
          "scatterpolar": [
           {
            "marker": {
             "colorbar": {
              "outlinewidth": 0,
              "ticks": ""
             }
            },
            "type": "scatterpolar"
           }
          ],
          "scatterpolargl": [
           {
            "marker": {
             "colorbar": {
              "outlinewidth": 0,
              "ticks": ""
             }
            },
            "type": "scatterpolargl"
           }
          ],
          "scatterternary": [
           {
            "marker": {
             "colorbar": {
              "outlinewidth": 0,
              "ticks": ""
             }
            },
            "type": "scatterternary"
           }
          ],
          "surface": [
           {
            "colorbar": {
             "outlinewidth": 0,
             "ticks": ""
            },
            "colorscale": [
             [
              0,
              "#0d0887"
             ],
             [
              0.1111111111111111,
              "#46039f"
             ],
             [
              0.2222222222222222,
              "#7201a8"
             ],
             [
              0.3333333333333333,
              "#9c179e"
             ],
             [
              0.4444444444444444,
              "#bd3786"
             ],
             [
              0.5555555555555556,
              "#d8576b"
             ],
             [
              0.6666666666666666,
              "#ed7953"
             ],
             [
              0.7777777777777778,
              "#fb9f3a"
             ],
             [
              0.8888888888888888,
              "#fdca26"
             ],
             [
              1,
              "#f0f921"
             ]
            ],
            "type": "surface"
           }
          ],
          "table": [
           {
            "cells": {
             "fill": {
              "color": "#EBF0F8"
             },
             "line": {
              "color": "white"
             }
            },
            "header": {
             "fill": {
              "color": "#C8D4E3"
             },
             "line": {
              "color": "white"
             }
            },
            "type": "table"
           }
          ]
         },
         "layout": {
          "annotationdefaults": {
           "arrowcolor": "#2a3f5f",
           "arrowhead": 0,
           "arrowwidth": 1
          },
          "autotypenumbers": "strict",
          "coloraxis": {
           "colorbar": {
            "outlinewidth": 0,
            "ticks": ""
           }
          },
          "colorscale": {
           "diverging": [
            [
             0,
             "#8e0152"
            ],
            [
             0.1,
             "#c51b7d"
            ],
            [
             0.2,
             "#de77ae"
            ],
            [
             0.3,
             "#f1b6da"
            ],
            [
             0.4,
             "#fde0ef"
            ],
            [
             0.5,
             "#f7f7f7"
            ],
            [
             0.6,
             "#e6f5d0"
            ],
            [
             0.7,
             "#b8e186"
            ],
            [
             0.8,
             "#7fbc41"
            ],
            [
             0.9,
             "#4d9221"
            ],
            [
             1,
             "#276419"
            ]
           ],
           "sequential": [
            [
             0,
             "#0d0887"
            ],
            [
             0.1111111111111111,
             "#46039f"
            ],
            [
             0.2222222222222222,
             "#7201a8"
            ],
            [
             0.3333333333333333,
             "#9c179e"
            ],
            [
             0.4444444444444444,
             "#bd3786"
            ],
            [
             0.5555555555555556,
             "#d8576b"
            ],
            [
             0.6666666666666666,
             "#ed7953"
            ],
            [
             0.7777777777777778,
             "#fb9f3a"
            ],
            [
             0.8888888888888888,
             "#fdca26"
            ],
            [
             1,
             "#f0f921"
            ]
           ],
           "sequentialminus": [
            [
             0,
             "#0d0887"
            ],
            [
             0.1111111111111111,
             "#46039f"
            ],
            [
             0.2222222222222222,
             "#7201a8"
            ],
            [
             0.3333333333333333,
             "#9c179e"
            ],
            [
             0.4444444444444444,
             "#bd3786"
            ],
            [
             0.5555555555555556,
             "#d8576b"
            ],
            [
             0.6666666666666666,
             "#ed7953"
            ],
            [
             0.7777777777777778,
             "#fb9f3a"
            ],
            [
             0.8888888888888888,
             "#fdca26"
            ],
            [
             1,
             "#f0f921"
            ]
           ]
          },
          "colorway": [
           "#636efa",
           "#EF553B",
           "#00cc96",
           "#ab63fa",
           "#FFA15A",
           "#19d3f3",
           "#FF6692",
           "#B6E880",
           "#FF97FF",
           "#FECB52"
          ],
          "font": {
           "color": "#2a3f5f"
          },
          "geo": {
           "bgcolor": "white",
           "lakecolor": "white",
           "landcolor": "#E5ECF6",
           "showlakes": true,
           "showland": true,
           "subunitcolor": "white"
          },
          "hoverlabel": {
           "align": "left"
          },
          "hovermode": "closest",
          "mapbox": {
           "style": "light"
          },
          "paper_bgcolor": "white",
          "plot_bgcolor": "#E5ECF6",
          "polar": {
           "angularaxis": {
            "gridcolor": "white",
            "linecolor": "white",
            "ticks": ""
           },
           "bgcolor": "#E5ECF6",
           "radialaxis": {
            "gridcolor": "white",
            "linecolor": "white",
            "ticks": ""
           }
          },
          "scene": {
           "xaxis": {
            "backgroundcolor": "#E5ECF6",
            "gridcolor": "white",
            "gridwidth": 2,
            "linecolor": "white",
            "showbackground": true,
            "ticks": "",
            "zerolinecolor": "white"
           },
           "yaxis": {
            "backgroundcolor": "#E5ECF6",
            "gridcolor": "white",
            "gridwidth": 2,
            "linecolor": "white",
            "showbackground": true,
            "ticks": "",
            "zerolinecolor": "white"
           },
           "zaxis": {
            "backgroundcolor": "#E5ECF6",
            "gridcolor": "white",
            "gridwidth": 2,
            "linecolor": "white",
            "showbackground": true,
            "ticks": "",
            "zerolinecolor": "white"
           }
          },
          "shapedefaults": {
           "line": {
            "color": "#2a3f5f"
           }
          },
          "ternary": {
           "aaxis": {
            "gridcolor": "white",
            "linecolor": "white",
            "ticks": ""
           },
           "baxis": {
            "gridcolor": "white",
            "linecolor": "white",
            "ticks": ""
           },
           "bgcolor": "#E5ECF6",
           "caxis": {
            "gridcolor": "white",
            "linecolor": "white",
            "ticks": ""
           }
          },
          "title": {
           "x": 0.05
          },
          "xaxis": {
           "automargin": true,
           "gridcolor": "white",
           "linecolor": "white",
           "ticks": "",
           "title": {
            "standoff": 15
           },
           "zerolinecolor": "white",
           "zerolinewidth": 2
          },
          "yaxis": {
           "automargin": true,
           "gridcolor": "white",
           "linecolor": "white",
           "ticks": "",
           "title": {
            "standoff": 15
           },
           "zerolinecolor": "white",
           "zerolinewidth": 2
          }
         }
        },
        "title": {
         "text": "Option Basket price surface"
        }
       }
      },
      "text/html": [
       "<div>                            <div id=\"78cb3bbc-e447-46ba-bb3f-205d0a2a6072\" class=\"plotly-graph-div\" style=\"height:525px; width:100%;\"></div>            <script type=\"text/javascript\">                require([\"plotly\"], function(Plotly) {                    window.PLOTLYENV=window.PLOTLYENV || {};                                    if (document.getElementById(\"78cb3bbc-e447-46ba-bb3f-205d0a2a6072\")) {                    Plotly.newPlot(                        \"78cb3bbc-e447-46ba-bb3f-205d0a2a6072\",                        [{\"type\": \"surface\", \"x\": [90.0, 90.51282051282051, 91.02564102564102, 91.53846153846153, 92.05128205128204, 92.56410256410257, 93.07692307692308, 93.58974358974359, 94.1025641025641, 94.61538461538461, 95.12820512820512, 95.64102564102564, 96.15384615384616, 96.66666666666667, 97.17948717948718, 97.6923076923077, 98.2051282051282, 98.71794871794872, 99.23076923076923, 99.74358974358974, 100.25641025641025, 100.76923076923077, 101.28205128205128, 101.7948717948718, 102.3076923076923, 102.82051282051282, 103.33333333333333, 103.84615384615384, 104.35897435897436, 104.87179487179488, 105.38461538461539, 105.8974358974359, 106.41025641025641, 106.92307692307692, 107.43589743589743, 107.94871794871796, 108.46153846153845, 108.97435897435898, 109.48717948717949, 110.0], \"y\": [90.0, 90.51282051282051, 91.02564102564102, 91.53846153846153, 92.05128205128204, 92.56410256410257, 93.07692307692308, 93.58974358974359, 94.1025641025641, 94.61538461538461, 95.12820512820512, 95.64102564102564, 96.15384615384616, 96.66666666666667, 97.17948717948718, 97.6923076923077, 98.2051282051282, 98.71794871794872, 99.23076923076923, 99.74358974358974, 100.25641025641025, 100.76923076923077, 101.28205128205128, 101.7948717948718, 102.3076923076923, 102.82051282051282, 103.33333333333333, 103.84615384615384, 104.35897435897436, 104.87179487179488, 105.38461538461539, 105.8974358974359, 106.41025641025641, 106.92307692307692, 107.43589743589743, 107.94871794871796, 108.46153846153845, 108.97435897435898, 109.48717948717949, 110.0], \"z\": [[35.6546602541869, 35.776160548608225, 35.39780143149852, 36.104164469024745, 35.978348446387976, 36.102116485846096, 35.63692059123861, 35.5577495434976, 35.65290621621512, 36.14698063987793, 36.13911762806018, 36.105178088409616, 36.05676409582478, 36.04972046264326, 36.28695681044961, 36.64144138978421, 36.10673224213577, 35.774242420460574, 36.64291678051164, 36.62541486690413, 36.31638200584406, 36.7742831402742, 36.41699482797996, 37.19081319208064, 36.58335469808528, 36.078368851868305, 36.52788851508897, 37.46954623975585, 37.17392025834799, 36.96941006316427, 37.33650998842438, 37.336844423155135, 37.12632125654694, 37.27859338862293, 37.31169698932526, 37.580920586267105, 37.63736161749897, 37.88805877148469, 37.761390174641285, 38.017686043281934], [35.84440277197422, 36.30393609645684, 36.05387240971543, 35.65603693545929, 36.09475704174511, 36.73558431876462, 35.988301594426375, 35.977136292217644, 36.264748443843814, 35.72964721788965, 36.10877608089783, 36.683303851248766, 36.4124313146552, 37.22217756669291, 36.397269698542225, 36.41935071198824, 36.96542498447863, 37.58388004946312, 37.37086689019944, 36.578910234318904, 36.22131513911971, 36.95857614360067, 37.529971827323834, 36.90942405253054, 37.562486348678085, 37.424269120180014, 37.74192798269754, 37.421814996056504, 37.27034848853962, 37.55826509881885, 37.39533316868473, 37.61971429273412, 38.1687505047027, 37.57842063720202, 37.50599131697138, 38.26307484396843, 37.55645241666568, 38.33663532297499, 37.60331801130263, 37.904777641261944], [36.28663145395061, 36.34550530475471, 36.631979877376935, 36.22790095702497, 36.168746955691496, 36.57309677296171, 36.5663646883808, 36.51097696773862, 36.972898349381445, 36.94299912502109, 36.7805572928329, 37.01889203699983, 36.645627816613576, 37.00167921501683, 37.116375703792876, 36.647936654395835, 36.40263816502044, 37.38256842649545, 37.19630324666525, 37.20639044851872, 38.08412001786312, 37.24387174582005, 37.57889653691992, 37.23579673859837, 37.485972816553016, 37.72233076186303, 37.88027730885428, 37.70297063597169, 37.80113629315535, 38.27380581523068, 38.134778564142266, 38.14539887425723, 37.790197081405836, 38.199976111560666, 37.92558498498672, 38.34681560447104, 38.462783242566886, 38.29079459343767, 38.106717337489805, 38.433648254039745], [36.3869349943631, 36.84052056345347, 37.12615178818063, 36.7929939572224, 36.384889469268096, 37.20830754888273, 36.61800894911902, 36.572287456518445, 37.22717379988415, 37.17117538772328, 36.871825549905495, 37.05659878054271, 36.85963119730183, 37.33851231487069, 37.38856044112992, 37.28990909952, 37.37213821540289, 37.4099457294455, 37.909550712601686, 37.76640248062323, 37.8946880006886, 37.816073062757106, 37.739088323640075, 37.223307526710734, 37.75109693104797, 37.65830990404059, 38.150193874914635, 37.157242799835316, 37.87236337006349, 38.052539367899136, 38.51714722529627, 38.082583776106326, 38.132135757064304, 38.26974350270316, 38.69487181385093, 38.360455675221544, 38.883973293748234, 38.527874857361965, 38.86588714026893, 38.490458863497345], [36.73200968572029, 37.17157116485078, 37.342589580633174, 37.070534569822016, 37.34342375561916, 36.860134991974576, 37.048190704874166, 37.49005057339105, 37.22669935120704, 37.63942758978837, 37.64658350188493, 37.55540006627024, 37.242312355920944, 37.02015099599801, 36.954824293393166, 37.98829950573205, 38.35873329120221, 37.66226453255556, 37.43196044898471, 38.157815634917064, 37.6139414162151, 38.001213566669755, 38.082164242213175, 38.20408088140044, 38.11881439855737, 38.51710407795239, 37.90352576542003, 38.59277969662032, 38.39577862942749, 38.18932500214529, 39.04093275752491, 38.36096926617139, 38.72503066950006, 38.902664985456326, 38.10338988519932, 38.72755640194518, 38.836394199349535, 38.888682311877666, 39.11283825817913, 38.72206393963066], [37.268952169872456, 37.43238092969026, 37.15454007751162, 36.834630139007, 37.87769086142127, 36.80804018477902, 37.42898369291182, 37.32941741891426, 37.82673398651559, 37.640542755390776, 37.63276265805291, 38.33190642724563, 38.138375578962055, 38.18770270491175, 38.01415045459372, 38.07341817505637, 37.97502798080712, 37.62597773075432, 37.9416023856461, 38.56853052489658, 38.25404197263831, 38.05114702410386, 38.7473908432973, 38.713453198438266, 38.25115192815606, 37.94601534514857, 38.9218830050642, 39.07048067618427, 38.702981893653494, 38.9636764405954, 39.37674629874913, 38.751421795302264, 39.220615557253865, 39.59859807578337, 39.04027704488973, 39.105945120259655, 38.960423149763145, 39.065202971067635, 39.47466328568716, 39.448753360713745], [37.56214825572869, 37.91697403711156, 37.425243811286535, 37.62370007321307, 37.96728259836636, 37.81420554571962, 37.66678683336363, 38.08933583991813, 38.10371316896332, 38.03423738830541, 37.986405513823556, 38.46836683097687, 38.175306521719286, 38.31397993039532, 38.43745560681843, 38.782321923586004, 38.461094675961384, 38.91744550889825, 38.49352326305789, 38.4884073646206, 38.835797828466234, 38.921283228970516, 38.76831699644284, 39.03157486746166, 38.89186026244345, 39.16107470510079, 39.39559098404761, 38.66295665630261, 39.24746882313382, 39.42658978714924, 38.827933019420605, 39.336745632262435, 39.3786045804482, 39.83253969322066, 39.76461347472717, 39.33582248659424, 39.64777835389657, 39.84165074417646, 39.221432037503945, 40.062928306776534], [38.31301090456109, 37.6681850135856, 37.85139148372953, 38.26109150126532, 38.54219526556088, 38.24709430891909, 38.092544067843114, 38.381181306204645, 38.45022224315267, 38.740649199417824, 38.56803511285697, 38.859658202934135, 38.58356781837228, 39.17165205325668, 38.462104460118624, 38.9995202902934, 38.55059304933443, 38.924029989662564, 38.81183214712689, 39.09658271954674, 39.20104719078307, 38.78425544293343, 39.08098448180035, 39.45887835436971, 39.36918024478153, 40.111087556189254, 39.635932804176505, 39.574663808855725, 39.34421979441426, 39.81265410052255, 39.88822390543948, 39.83250488373367, 40.09175914038893, 40.0883464505614, 40.21067163103347, 39.89733688085194, 39.39354043414622, 40.56394835129044, 40.61523195969176, 40.51772622870691], [38.233721047815855, 37.88266886285203, 38.31401907612976, 38.43255378993267, 38.45603810578824, 38.608728834300415, 38.250242678637726, 38.50738432135545, 38.82557190561528, 39.27807196611892, 39.379730599243075, 39.42182017879873, 39.050938426065855, 38.87982716810291, 38.813137542952646, 39.35976133092304, 39.10650071743301, 39.16445881907042, 39.34281962217551, 39.12507711175731, 39.79177280923289, 39.40407917437354, 40.01010202693781, 39.50568729629695, 40.055290233747094, 40.058014885836805, 39.850162629138, 39.653807500800944, 39.815234100114296, 39.817523889897046, 40.64523607139762, 40.19358110769901, 40.314536733658194, 40.4516220812661, 40.16988845382525, 40.22271258565224, 40.618014870219284, 40.32620091054513, 40.925569958409476, 40.052198588647016], [39.13470343100427, 38.9242685023566, 38.392736059676864, 39.13228809407165, 38.29590111697923, 38.90358687129602, 38.759624745069885, 39.03777282976691, 39.26599093984856, 39.54458879817492, 39.625069652641976, 39.16222022277609, 39.547205550202335, 39.471674380018634, 39.65575223818173, 39.54230600926655, 39.720797608043725, 39.393887290751245, 39.80108058194915, 39.52216374787232, 39.79297180987544, 39.63956761957865, 40.14900876134915, 40.07722975863632, 40.26723052023216, 40.12696034460829, 40.2910875763768, 40.398469835226756, 40.24467883474277, 39.97873813699149, 40.730530780624086, 40.548127020847495, 40.64878016505343, 40.72117515707426, 40.800505245012594, 40.67104638642105, 40.6489265382994, 41.03205785820355, 40.51689431840592, 40.99520864658734], [39.3064446748122, 38.93751361763213, 39.006866294638904, 39.446516413358395, 39.07901184202728, 39.75086842143566, 39.55028065242322, 39.20386997725725, 39.42799272573145, 39.85991548816809, 39.98006247074387, 40.24405340153764, 39.90576088545686, 39.32051486983165, 40.15657951942849, 39.98213747881562, 40.38412897147575, 40.28288044181551, 39.977370557319986, 40.039501431341364, 40.2213673063582, 40.2721234218817, 40.60171808790415, 40.18825483025362, 40.3715225723545, 40.19825424555938, 40.76276681572394, 41.020425695150436, 40.8452507954894, 40.15400292830653, 40.906941194552395, 41.443337801581585, 41.502917824679905, 40.83347272600297, 41.097248729665715, 41.22524803334679, 41.77081306967658, 40.86203509478311, 41.4473028204673, 41.24765034513934], [39.03015054603966, 39.95759126333671, 39.526531561579624, 39.72840929868311, 39.681122332371224, 39.58017342719747, 39.76766396360374, 39.245129060054275, 39.670712083485235, 40.20159746909616, 40.46782465281119, 40.4367663658127, 40.187883496572596, 40.49506335536472, 40.08984123527068, 40.15947955895823, 40.03750444924653, 40.83716756513998, 40.263683785965036, 40.94210739069182, 40.468670327819495, 41.36767305213112, 40.725288369029656, 41.294520472290806, 40.77826267969695, 40.89517193714924, 41.06129449499491, 41.32867007517954, 41.19946704853782, 41.1906825667067, 41.29643626006915, 41.22392021145516, 41.14695211961053, 41.36747442481689, 41.269957642413104, 41.41456694620621, 41.89328009574106, 41.5049017338417, 42.26676932655963, 42.281035142194284], [39.22830846162731, 39.6420213066684, 39.86303930404875, 39.65645441068779, 40.20258652838111, 40.89255365486598, 40.06508652471166, 40.05403015825892, 40.01132748819834, 39.90751360203135, 40.418376391967335, 40.55063417072967, 40.62510823376819, 41.189401635878774, 40.41170459061679, 40.463202878940145, 41.20499607809944, 41.27248788940722, 41.037314437849325, 41.06450506566302, 41.11038854962636, 41.26678704151661, 41.488809623039, 40.96864109089949, 41.33084706441942, 41.414812376360246, 41.24566154005433, 41.67448883288053, 41.65582177152552, 41.61273750252387, 41.75909164976645, 41.64951384366439, 42.24860919108358, 42.22424453533843, 42.0539178684785, 42.09895078819965, 42.477426547227644, 42.492107645884474, 42.0996383510957, 42.54287770387971], [40.632010376664425, 39.786671641454355, 40.237721066261415, 40.73001800368732, 40.72164094486895, 40.35421585125975, 40.387852685724454, 40.19694970619497, 40.70534396752913, 40.94466647204756, 40.68975803741509, 40.64026251653455, 40.47904163929485, 41.26397199890148, 41.47272833464648, 41.36203810355816, 41.121239347539934, 41.47952195820568, 41.51814675371423, 41.55244057773618, 42.2367471798989, 41.34105978521647, 42.28789727819842, 42.13288585463573, 41.594277097974235, 41.23335349759838, 42.30698356710231, 42.481410925369225, 42.63066056764495, 41.47933568186887, 42.214440642565044, 42.00266410918586, 42.043310669199386, 41.773880366162025, 41.87451194393673, 41.960082914633226, 41.937716889591314, 42.83824927661586, 42.65552794544191, 42.727701173490566], [41.12698050917487, 40.90107378176366, 40.96218183247141, 40.7688522602637, 41.12874579483186, 41.022813210174654, 40.887117489965256, 40.96584920752877, 40.67541084262351, 41.04067974031216, 41.35217498824392, 41.3506681400877, 40.860672619848124, 41.29091588845113, 41.3480514172347, 41.463392391451656, 41.41259122606089, 41.83179560919109, 41.14083453948151, 42.02026682988501, 41.676711924602174, 41.67786309196815, 42.02715036426429, 41.711858728263806, 42.0372182989578, 42.13241534204276, 42.085391283024215, 41.91987595517069, 42.105466596572604, 42.58658055391294, 42.43153604138464, 42.58219847058877, 42.57824345482612, 42.796711021750774, 42.62379299527946, 42.83921398784105, 42.597049979281, 42.68446104911376, 43.029029065672525, 43.01572851430513], [40.27022277029438, 40.85076577570266, 40.886196235443535, 41.21978452249977, 41.731480992844915, 41.31673655204878, 40.96081912539995, 41.66887588133681, 41.33752624847175, 41.600382108644084, 41.66668024329371, 41.824348972285854, 42.022712435481736, 41.137276529282296, 41.80869341004081, 41.85979568506185, 42.01340034247722, 41.28977354416071, 42.202825490930515, 41.8900247964941, 41.84727924725996, 42.01636813955504, 42.94766181326297, 42.12963514611892, 42.426911437068775, 42.089839005861364, 42.69594054468319, 43.23050880302126, 42.971908342175986, 43.258620782138166, 41.790010586150764, 42.930022412579866, 42.13842313974745, 43.03377211358986, 43.52447690224885, 43.16881918730643, 42.47374322434033, 43.041460211676714, 43.08396092665584, 43.587183842851154], [41.327787559113645, 41.131474723355176, 41.485400054800685, 41.88948613640424, 41.301495401096304, 41.58306732541861, 41.692897154348024, 41.8978480961063, 42.41470666795678, 42.113695884121846, 41.62667794615892, 42.156970201172605, 42.09939329208821, 41.74006331843569, 42.65615332929299, 42.4300656407721, 42.068769536082826, 42.649819639760814, 42.64856763845047, 42.822758792052774, 42.29510497495496, 42.76987464469594, 42.708509799801604, 42.42122031513156, 42.83587524115158, 42.31007612762738, 42.87805061327233, 43.22129545108944, 42.849049201965535, 43.25949970618247, 43.11840758010665, 43.03717571774562, 43.97899801786771, 43.096431240148576, 43.42988644494664, 43.61263532433316, 43.37323542153787, 43.30304707461729, 43.130450186372364, 43.80168526906334], [41.95478452254803, 41.75156949262714, 42.06480376871188, 41.655588958763374, 41.95804306295631, 42.27544410173282, 41.673255051042, 42.538906208060254, 42.50664634394798, 42.76570431152003, 42.228079767596384, 41.86582293892682, 42.460422552549794, 41.89351830852991, 43.55739273453459, 42.5349851781541, 42.957017394068494, 42.98998571727106, 42.781184389685045, 43.09061505951731, 42.837451080948625, 43.61931941822915, 42.86993668529421, 43.05667401351892, 43.072924450735655, 43.083468104860586, 43.268368386965996, 43.75242260304202, 43.52780353877674, 43.574471946174775, 43.746689931278574, 43.73377562955893, 43.12902285754682, 43.90797796568711, 43.551866159891176, 43.51034678190238, 43.57265359437116, 44.03296905990895, 43.940186079312525, 44.165306798517015], [42.21958618576559, 41.841864953757074, 41.96764801521955, 41.91996083184355, 41.688024836341285, 42.363211966021176, 42.11980294540424, 41.710200532459915, 42.27101095686008, 43.363339459205164, 42.96604246246017, 42.47473849115895, 42.87340829183571, 42.71993455859478, 42.614922322617524, 43.58577752958416, 42.858748839980514, 42.87060007563434, 43.17597590863401, 43.05898412918222, 43.0814299258757, 43.868016445011605, 43.961223676668915, 43.41401499624441, 43.094816088131545, 43.50015188421221, 43.78886777266962, 44.28731841636842, 44.036561690065085, 44.34364302427068, 43.80000660727025, 44.12022232131161, 44.243609702147076, 43.92909160634295, 43.743680017978924, 44.200841685528744, 44.378961015367864, 44.63312331954551, 44.8393340859837, 44.45940839477625], [42.89556772712967, 41.97360060810088, 42.6516206767836, 42.916467095355884, 43.273367567964186, 42.997382079465176, 43.0092228036881, 43.12555642873773, 43.261345141220254, 43.478143622324986, 43.12545301585761, 42.84386341463041, 42.76216942872669, 43.87561764590901, 42.89052031476406, 43.90329105923828, 43.84594267877127, 43.24076716189648, 43.89716873646366, 43.26778616712973, 44.099363278451705, 43.918731986818614, 43.876633323517936, 44.29879570939009, 43.76396683554331, 43.83547402816188, 44.004400726181046, 44.492911109398214, 44.330441729066614, 44.39400855914453, 44.71397590673706, 44.48648204157781, 44.28949831647119, 44.63521939536595, 45.4838096655165, 44.07810581439787, 44.25306306967912, 45.060647459897204, 44.905707739079084, 45.05119128198072], [43.60775967193142, 43.356399565300194, 42.76266426520282, 42.95990394622607, 42.72192047317003, 43.00243330633897, 43.40004618114283, 43.097479375238514, 42.902457386497666, 43.79864959635401, 43.30668914506388, 43.276265658912195, 43.47281551612711, 43.795440377855556, 43.75912283124183, 44.037672489025006, 43.72827664104956, 43.863119993844215, 44.05039602946553, 44.12897983438287, 43.726595605206896, 44.36144397637591, 44.548925894412406, 44.26663682982554, 44.58075177391705, 44.637416844419185, 44.41665685366652, 44.91833640225058, 44.84896034642856, 44.74855793954849, 44.973036181388004, 44.70392086655213, 45.02037863133133, 44.738102743455435, 44.634856712986945, 45.329138162250075, 45.36362169363303, 45.155755488322086, 44.486701493980235, 45.65245098396827], [43.39671939996337, 43.053653521613434, 43.15921618560747, 43.46666993781725, 43.595238272661774, 43.97418038597871, 44.230391042422, 43.90921922544656, 43.90765520525761, 43.49282247377057, 43.94381004627454, 43.77385009808859, 44.37717998505947, 44.05127349921747, 43.76048100016498, 43.891033464742534, 43.99353293053428, 43.95000819703859, 44.41628817742955, 44.72711161281257, 44.687077046773034, 43.800627795986266, 44.50504002284839, 44.951979329202594, 44.49266290127754, 44.89702723037453, 44.77016810941341, 45.0885095906661, 44.83886826738171, 45.16427900094097, 45.286552538597675, 45.24620037246149, 45.34941900233938, 45.37528075552115, 45.50669855217104, 45.04344481523063, 45.621321478733414, 45.399980845497325, 45.65549888181304, 45.888847677305236], [44.19592435509042, 43.311165887691004, 43.48476887482201, 43.60998993469838, 43.54325691121694, 43.5642813764331, 43.67876408747441, 43.8972338030035, 44.33668003633301, 44.24551149826298, 44.71923648476748, 44.086182582030965, 44.22223096228012, 44.5204577885334, 44.72187692774755, 44.28474272350368, 45.044984592510026, 44.17145516647038, 43.91196075251101, 44.527442604426284, 44.7435286661255, 44.96847210356132, 45.75219476025042, 44.87267646906681, 44.94327335957079, 45.544482233399286, 45.26898944019755, 45.2908620718949, 45.312357407915236, 45.12636670471154, 45.085969043250095, 45.42969984557486, 45.89202617209244, 45.744514416613214, 45.87745105183367, 46.00032507033805, 46.19822033445569, 46.26080343398153, 45.80747338174842, 46.68890328537879], [44.97722025243404, 44.11118514970871, 44.54036552018137, 43.87626877397994, 44.02189541438178, 44.5516745555048, 44.420634488348234, 45.151026983636676, 44.648407324753954, 44.78009350480011, 44.91941729621186, 44.68886317717746, 44.45613823911056, 44.77385293129582, 45.22725645080734, 44.637643045542, 44.5282396943607, 45.58090801215753, 45.11332083673864, 45.334822615978716, 45.443481999422794, 45.373635102930145, 45.300074619257195, 45.53779242159242, 45.40059225361136, 45.85379900342036, 46.13100734521416, 45.72063666893932, 46.18880827668023, 46.45768425835031, 45.496955791264085, 46.689095812755724, 45.73807859869226, 46.38273238848442, 45.944192856837326, 45.30719447973247, 46.19872020715136, 46.55207482133487, 46.15255889676182, 46.47066380003468], [44.27980849185076, 44.45380539993626, 44.34639353642434, 44.68433591908819, 44.712458116203855, 43.869501966217214, 44.37293081438205, 45.26075537602312, 44.948468172584036, 45.08673974095847, 45.654006402000206, 45.237370060498954, 45.37798609009785, 45.16436821027397, 45.92181484592532, 45.7424246532244, 44.90645052983361, 45.437765217938896, 45.40732160390351, 45.50034867441702, 45.22512314147054, 45.817885736531366, 45.81418434855775, 46.13799245465667, 45.35334006854748, 46.24788988471793, 45.93076169901852, 46.29574399922192, 46.08987161971723, 46.35276165677432, 46.27222447605059, 46.20108843649265, 46.04004678166409, 46.463150142970846, 47.033771857159174, 46.75248001875209, 46.74739911731095, 46.73677574302681, 47.331601602995526, 47.39948655139542], [44.84151435440642, 44.80280726779758, 44.782330997513384, 44.88867781837301, 45.15327008875444, 45.22755271369733, 44.84317298015397, 45.609720698801, 45.02879500086815, 45.17191004795001, 45.53250055021253, 45.944367685589306, 45.00645081550028, 45.758392427604946, 45.354014891550214, 45.7035751442619, 45.60555318343297, 45.554396359341425, 45.50491229557329, 46.14969570196037, 46.200965433370946, 45.85352491147276, 46.08310166905823, 46.04952694333099, 46.580349165734155, 47.26374478505126, 46.882641173235776, 46.363703534817546, 47.10424486807636, 46.15670575367061, 46.739285800965696, 47.12998859052032, 46.560487157959145, 46.926125338313824, 46.512203460919324, 47.59806135272705, 46.97075114881959, 47.37494040030057, 46.76458003469923, 47.56464795361038], [45.10541512599757, 45.62698199290222, 46.04299812580561, 45.7926817602584, 45.27204794101079, 45.78298099985159, 45.28547144134242, 45.545595797313915, 46.04415644599104, 45.79704775617525, 46.34291255554775, 45.775617452249676, 45.924398177325486, 46.52744427740827, 45.5628557275201, 46.25653655000736, 46.77548713773512, 46.21912935577729, 45.81151358573071, 46.378301957664185, 46.410984114967974, 46.43198816507177, 46.52076962193993, 46.251843404562266, 46.80774420809978, 46.64921013822097, 46.6074042162495, 47.08705951177986, 47.00946851497667, 46.63298667192108, 47.45057030212949, 47.660201763813745, 47.40546334868186, 47.25344974491087, 47.09423446196056, 47.23776577977375, 47.634532546582335, 47.615132117016984, 47.76927261393702, 47.629612746258836], [45.235481334179724, 45.533238737799444, 45.57153947111031, 45.886905116329174, 45.56243442034415, 45.421182796568395, 46.00448894261791, 45.569007146009355, 45.64563444806776, 45.976980314140135, 45.961880281116244, 46.240448554434764, 45.98033340283191, 46.69082477756496, 45.85922692410904, 46.14967875689763, 46.33986991903772, 46.35357359791545, 46.741061763206346, 46.24747394433841, 46.42489687822176, 47.20279019993028, 47.197678414704896, 47.17154726083002, 47.429477262575084, 46.91320878729938, 46.921516918535765, 47.250632496558644, 46.91118012425263, 47.3409250336106, 47.40901674347064, 47.246735885533745, 47.88023558345817, 47.77240208515933, 47.839865041830556, 47.52997337615846, 47.92135683116665, 47.83031855148196, 48.12013723715977, 47.919086813879346], [45.62836756362973, 46.338302509982555, 46.0222807449912, 46.00862051593632, 46.556046227482696, 46.71648168818575, 46.25585208260276, 46.64499518767032, 46.61149140505892, 46.33192433538617, 46.53094909384368, 46.67697602934145, 46.293576093022814, 46.49909367915021, 46.44341608035253, 47.0240802688674, 47.18256034245199, 47.57749822708798, 46.74340892962675, 47.13747683860668, 47.17791376057079, 47.0480167155172, 48.27760777946559, 47.33724989431849, 47.4737007696115, 47.15112778281767, 47.958646315070595, 48.108439939489955, 47.54033071944644, 47.96766893896554, 47.527924823042, 48.51692132893514, 48.06678929442454, 48.334758558647096, 47.74466343848655, 48.27642216515585, 48.204441612567415, 47.986459264397865, 48.41597245236733, 48.29628399858655], [46.41030921203557, 46.553303177630774, 46.71703367949973, 46.23159957895603, 46.53834560556594, 46.624117862370554, 46.19685361138075, 47.22117530354184, 46.613619712114186, 46.66169805249455, 47.128669120792274, 47.25565026240663, 46.993443459233056, 47.02530158794939, 47.267161849496354, 47.120125206082854, 47.22859897055543, 47.80381256527248, 47.52869554341526, 47.78676723450817, 47.76671670953037, 47.690582541082, 48.027395044159015, 47.58898018808883, 47.89165856660344, 48.08359291949018, 47.712280988777735, 47.597361486711904, 48.24359405645522, 48.703078895524165, 48.65496046357876, 48.248601007691455, 48.739943638871985, 48.12915038804984, 48.68364918925098, 49.46332834849899, 48.26409951403845, 48.87804985952853, 48.35455170739577, 48.76024303563522], [46.238451502016254, 47.635765274076945, 47.060921886986606, 47.17140837822067, 46.981981392164016, 47.30867972457899, 46.72687210131564, 47.185214521321825, 47.37920495855798, 47.60612926475349, 46.982828579963645, 47.466595143541966, 46.749081087014034, 47.454111693665695, 47.40977691166534, 47.152200277466775, 47.674019882201634, 47.95646930228832, 47.5447472634444, 47.71036161086816, 48.191183118106565, 47.80553339760136, 48.457097006525615, 48.631531039940995, 48.03969808132628, 48.52517241110207, 48.77601367189847, 48.50196523579755, 48.50349094020265, 48.63069026021883, 49.55904295584151, 49.14008617718858, 48.539177438123914, 49.243243245100075, 49.316667178746115, 49.055098067161495, 49.0944678665573, 48.819594959632916, 49.34612120182733, 49.47217198167856], [47.26437892005587, 47.084383424633785, 47.55315950674983, 47.03145895976537, 46.9030633322989, 47.693531767200895, 46.86814247117599, 47.58539681026421, 48.309710748527635, 47.26811826755946, 48.22984869121851, 47.35635710261214, 47.802747898890786, 47.7527412126439, 48.44206678529074, 47.990287122874975, 47.64556416225929, 47.957782733852035, 48.125924529777656, 47.54680678935513, 48.2407835895816, 48.131594258436586, 48.356078949958395, 48.81722722894879, 48.78083797366207, 48.413162277802705, 48.75433804689983, 48.48901397022489, 48.556719127624476, 49.5344869878224, 49.38264081154359, 49.04812469012039, 48.929997773046104, 49.297075360014944, 49.345227400371556, 49.138706572547804, 49.3974652973592, 49.52270006497357, 49.68190593898441, 50.25494720572466], [47.30228045866802, 47.54578245695697, 47.73568173825923, 48.216653158376424, 47.538817078334354, 48.506380763947114, 48.53842424492897, 47.89991099081883, 48.4441657973871, 48.28371188994519, 48.79020480999516, 48.81259646499602, 47.844716697188325, 48.61721742456626, 48.61090819893597, 48.085813781064196, 48.5207320957508, 48.64437150256262, 48.67572455656222, 49.17062836454731, 49.15458287467024, 49.15659782046536, 49.077334908513556, 49.28512042537744, 49.021052885949565, 49.01742614679069, 48.90239305652867, 49.52540141700874, 49.361272123801506, 49.76141997271547, 50.08326830080154, 50.42086221219291, 49.248203427078415, 49.74142056056828, 49.59022297255216, 50.09905725797165, 50.403226719736786, 49.96369615129353, 49.85264230340932, 50.21633123717863], [47.84563226283047, 48.388780558938215, 48.598393191592166, 48.371738384668056, 47.77864638509436, 48.294639889074276, 48.2670233268445, 48.04996071691298, 48.51378400509482, 48.494359412204155, 48.96559965633364, 47.84077900747134, 48.516870392494454, 48.34579134468547, 48.20526517789582, 48.9388623395943, 49.208242840878505, 48.24326144116912, 48.45645350145971, 49.36240333865328, 49.09660542503764, 49.30838983304876, 49.37035463439459, 49.06618367071442, 49.640203592645676, 49.13853122189939, 49.54076443326036, 49.736600854864164, 49.16060289813131, 49.75993825944236, 49.32190167162088, 50.22545022777213, 50.48713363617517, 49.72720859909284, 49.881062307536446, 50.10800242457292, 51.02598161225906, 50.81023441378, 51.222413202287456, 50.14049316961591], [47.824585122667166, 48.104783884180264, 48.32031994843102, 48.43466013206862, 48.77944772356464, 48.68447271733826, 48.355157418453274, 48.26827342670568, 48.79527518518337, 48.603809826268126, 48.65878192589653, 48.57492798164874, 48.88727260975171, 49.85086050867949, 49.746993716181464, 49.197438026629015, 49.28275941298804, 49.91726368579171, 49.19871517200727, 49.19345810784888, 49.254254188246385, 49.51343822470266, 49.55062672979532, 49.626885566683335, 49.779280123301696, 49.37164752666667, 49.55750747133944, 50.33728509338567, 50.106898952095726, 50.75138440197297, 50.2002094071473, 50.47027387058009, 50.62020458334337, 50.36983821221322, 49.87226339776409, 50.317837193469664, 51.28558828324512, 50.972358431493625, 51.2820076132554, 50.762580144324616], [48.86214515893963, 48.34552896264386, 48.925059262210674, 49.01073575087292, 48.547191989179886, 48.662724655880936, 49.044742586811694, 48.91582324201662, 49.2086442382728, 49.09732544612509, 49.317751274485495, 49.486935154834526, 49.40411711956447, 49.42195811164286, 49.40231945585637, 49.79178481966174, 50.26798635639615, 49.49238169895323, 49.923010971824844, 50.41844346174782, 49.82744456428751, 50.06313412549213, 50.07721821809205, 50.021904722483, 50.146912612882566, 50.25967185475159, 50.297754732501375, 50.004335100481526, 50.3471365967154, 50.446985138426435, 50.764378082259064, 50.744170198222285, 50.509653863220635, 50.57750176101231, 51.34262199306681, 51.0807838521758, 50.92232971586479, 51.57835759877844, 50.72493404946587, 51.61967716610126], [48.512739539855396, 49.09175674168361, 48.95038771170674, 49.01164629416183, 49.475370317911796, 49.75505899617076, 49.389268161731756, 49.1666471385707, 48.96852892595846, 49.84557841660388, 50.04096582669534, 49.83207312444869, 49.5052232823695, 49.87855634210992, 50.427448278369155, 50.336322359595194, 50.6584239573205, 50.28632475869828, 50.61538870341784, 50.26157719494798, 50.85941194129336, 50.62101074388862, 50.69068675848542, 50.74833458353703, 50.642574766963484, 50.42102487633994, 50.52557899154256, 50.81135221885722, 51.055459234493405, 50.98700687125486, 51.575098025019855, 51.53928767583254, 51.14049267818172, 52.07129024316025, 51.08824926833265, 51.657951426262564, 51.58468413463891, 51.855071686457705, 51.77405056641265, 51.162082097741894], [48.87459829646282, 49.25360255167767, 48.94576543451629, 50.49729003188508, 49.536491898963014, 49.96165018065139, 50.302682701652984, 49.63401113066872, 49.78623950828339, 49.8394943322623, 50.080530866173355, 50.37060127355415, 49.96353124632625, 50.35075279121272, 50.2599955376563, 50.57943135164765, 50.957193078838486, 50.67280221573527, 50.549477173792795, 50.70714782708903, 50.96011516915831, 51.08243592222589, 51.10865955403457, 51.90767418994322, 50.96715356463019, 50.99742336792633, 51.01962393682478, 51.03673771926259, 51.635499426533094, 51.35050373387558, 51.00609785632639, 50.768508034314934, 51.51297646851271, 51.8621026916237, 51.76313051421734, 51.56734456158893, 51.62467135070869, 51.978011342754755, 51.740817846109, 52.15489483974699], [50.046553107023534, 49.830626720848336, 50.67442350032898, 49.89363695972095, 49.66515640017637, 49.80594053828111, 50.41588099076094, 50.28066887934545, 49.50927066202962, 50.25393815461322, 50.18499688023948, 50.93742463087066, 50.356145975264184, 50.37806997059632, 50.599834776042236, 50.54514079618521, 50.93570910212433, 51.51167133567859, 50.88034172994006, 51.60637963023051, 51.158973007354064, 51.56586937952768, 51.21088259553962, 51.100897245003985, 51.41129682570892, 51.58633590701975, 51.40733297889866, 52.02050258649457, 51.528663278200646, 51.65497860174781, 51.681747026369756, 51.66235059416268, 52.06861185123678, 51.80835991700796, 52.103651947881445, 52.13570117333601, 52.2312676448962, 52.51393672584704, 52.69109505618119, 52.4793989973047], [50.86335418432521, 50.07061796796785, 49.443661810112474, 50.760753299595684, 50.652027245540836, 49.85341963508256, 51.06453916181532, 51.28136222141739, 50.771013329223415, 50.46999612198775, 51.185037848090715, 51.05534538556343, 50.83768179579707, 50.97297706372093, 51.850628492407495, 51.71522771339397, 50.95139176407883, 50.85031783869297, 51.082320540955045, 51.70821308508081, 52.13616891222665, 51.124712011277104, 51.7741350586992, 52.271660433399624, 51.29671306900401, 51.07750877538821, 51.712956230511416, 52.04784693126239, 52.39648823168102, 52.30616024951768, 52.4968661716777, 52.38278111158525, 52.35806995689739, 52.519343568862695, 53.251091132286604, 52.09775009223995, 52.34121117759818, 52.89757154096354, 53.19010093591594, 53.06772574339813]]}],                        {\"template\": {\"data\": {\"bar\": [{\"error_x\": {\"color\": \"#2a3f5f\"}, \"error_y\": {\"color\": \"#2a3f5f\"}, \"marker\": {\"line\": {\"color\": \"#E5ECF6\", \"width\": 0.5}}, \"type\": \"bar\"}], \"barpolar\": [{\"marker\": {\"line\": {\"color\": \"#E5ECF6\", \"width\": 0.5}}, \"type\": \"barpolar\"}], \"carpet\": [{\"aaxis\": {\"endlinecolor\": \"#2a3f5f\", \"gridcolor\": \"white\", \"linecolor\": \"white\", \"minorgridcolor\": \"white\", \"startlinecolor\": \"#2a3f5f\"}, \"baxis\": {\"endlinecolor\": \"#2a3f5f\", \"gridcolor\": \"white\", \"linecolor\": \"white\", \"minorgridcolor\": \"white\", \"startlinecolor\": \"#2a3f5f\"}, \"type\": \"carpet\"}], \"choropleth\": [{\"colorbar\": {\"outlinewidth\": 0, \"ticks\": \"\"}, \"type\": \"choropleth\"}], \"contour\": [{\"colorbar\": {\"outlinewidth\": 0, \"ticks\": \"\"}, \"colorscale\": [[0.0, \"#0d0887\"], [0.1111111111111111, \"#46039f\"], [0.2222222222222222, \"#7201a8\"], [0.3333333333333333, \"#9c179e\"], [0.4444444444444444, \"#bd3786\"], [0.5555555555555556, \"#d8576b\"], [0.6666666666666666, \"#ed7953\"], [0.7777777777777778, \"#fb9f3a\"], [0.8888888888888888, \"#fdca26\"], [1.0, \"#f0f921\"]], \"type\": \"contour\"}], \"contourcarpet\": [{\"colorbar\": {\"outlinewidth\": 0, \"ticks\": \"\"}, \"type\": \"contourcarpet\"}], \"heatmap\": [{\"colorbar\": {\"outlinewidth\": 0, \"ticks\": \"\"}, \"colorscale\": [[0.0, \"#0d0887\"], [0.1111111111111111, \"#46039f\"], [0.2222222222222222, \"#7201a8\"], [0.3333333333333333, \"#9c179e\"], [0.4444444444444444, \"#bd3786\"], [0.5555555555555556, \"#d8576b\"], [0.6666666666666666, \"#ed7953\"], [0.7777777777777778, \"#fb9f3a\"], [0.8888888888888888, \"#fdca26\"], [1.0, \"#f0f921\"]], \"type\": \"heatmap\"}], \"heatmapgl\": [{\"colorbar\": {\"outlinewidth\": 0, \"ticks\": \"\"}, \"colorscale\": [[0.0, \"#0d0887\"], [0.1111111111111111, \"#46039f\"], [0.2222222222222222, \"#7201a8\"], [0.3333333333333333, \"#9c179e\"], [0.4444444444444444, \"#bd3786\"], [0.5555555555555556, \"#d8576b\"], [0.6666666666666666, \"#ed7953\"], [0.7777777777777778, \"#fb9f3a\"], [0.8888888888888888, \"#fdca26\"], [1.0, \"#f0f921\"]], \"type\": \"heatmapgl\"}], \"histogram\": [{\"marker\": {\"colorbar\": {\"outlinewidth\": 0, \"ticks\": \"\"}}, \"type\": \"histogram\"}], \"histogram2d\": [{\"colorbar\": {\"outlinewidth\": 0, \"ticks\": \"\"}, \"colorscale\": [[0.0, \"#0d0887\"], [0.1111111111111111, \"#46039f\"], [0.2222222222222222, \"#7201a8\"], [0.3333333333333333, \"#9c179e\"], [0.4444444444444444, \"#bd3786\"], [0.5555555555555556, \"#d8576b\"], [0.6666666666666666, \"#ed7953\"], [0.7777777777777778, \"#fb9f3a\"], [0.8888888888888888, \"#fdca26\"], [1.0, \"#f0f921\"]], \"type\": \"histogram2d\"}], \"histogram2dcontour\": [{\"colorbar\": {\"outlinewidth\": 0, \"ticks\": \"\"}, \"colorscale\": [[0.0, \"#0d0887\"], [0.1111111111111111, \"#46039f\"], [0.2222222222222222, \"#7201a8\"], [0.3333333333333333, \"#9c179e\"], [0.4444444444444444, \"#bd3786\"], [0.5555555555555556, \"#d8576b\"], [0.6666666666666666, \"#ed7953\"], [0.7777777777777778, \"#fb9f3a\"], [0.8888888888888888, \"#fdca26\"], [1.0, \"#f0f921\"]], \"type\": \"histogram2dcontour\"}], \"mesh3d\": [{\"colorbar\": {\"outlinewidth\": 0, \"ticks\": \"\"}, \"type\": \"mesh3d\"}], \"parcoords\": [{\"line\": {\"colorbar\": {\"outlinewidth\": 0, \"ticks\": \"\"}}, \"type\": \"parcoords\"}], \"pie\": [{\"automargin\": true, \"type\": \"pie\"}], \"scatter\": [{\"marker\": {\"colorbar\": {\"outlinewidth\": 0, \"ticks\": \"\"}}, \"type\": \"scatter\"}], \"scatter3d\": [{\"line\": {\"colorbar\": {\"outlinewidth\": 0, \"ticks\": \"\"}}, \"marker\": {\"colorbar\": {\"outlinewidth\": 0, \"ticks\": \"\"}}, \"type\": \"scatter3d\"}], \"scattercarpet\": [{\"marker\": {\"colorbar\": {\"outlinewidth\": 0, \"ticks\": \"\"}}, \"type\": \"scattercarpet\"}], \"scattergeo\": [{\"marker\": {\"colorbar\": {\"outlinewidth\": 0, \"ticks\": \"\"}}, \"type\": \"scattergeo\"}], \"scattergl\": [{\"marker\": {\"colorbar\": {\"outlinewidth\": 0, \"ticks\": \"\"}}, \"type\": \"scattergl\"}], \"scattermapbox\": [{\"marker\": {\"colorbar\": {\"outlinewidth\": 0, \"ticks\": \"\"}}, \"type\": \"scattermapbox\"}], \"scatterpolar\": [{\"marker\": {\"colorbar\": {\"outlinewidth\": 0, \"ticks\": \"\"}}, \"type\": \"scatterpolar\"}], \"scatterpolargl\": [{\"marker\": {\"colorbar\": {\"outlinewidth\": 0, \"ticks\": \"\"}}, \"type\": \"scatterpolargl\"}], \"scatterternary\": [{\"marker\": {\"colorbar\": {\"outlinewidth\": 0, \"ticks\": \"\"}}, \"type\": \"scatterternary\"}], \"surface\": [{\"colorbar\": {\"outlinewidth\": 0, \"ticks\": \"\"}, \"colorscale\": [[0.0, \"#0d0887\"], [0.1111111111111111, \"#46039f\"], [0.2222222222222222, \"#7201a8\"], [0.3333333333333333, \"#9c179e\"], [0.4444444444444444, \"#bd3786\"], [0.5555555555555556, \"#d8576b\"], [0.6666666666666666, \"#ed7953\"], [0.7777777777777778, \"#fb9f3a\"], [0.8888888888888888, \"#fdca26\"], [1.0, \"#f0f921\"]], \"type\": \"surface\"}], \"table\": [{\"cells\": {\"fill\": {\"color\": \"#EBF0F8\"}, \"line\": {\"color\": \"white\"}}, \"header\": {\"fill\": {\"color\": \"#C8D4E3\"}, \"line\": {\"color\": \"white\"}}, \"type\": \"table\"}]}, \"layout\": {\"annotationdefaults\": {\"arrowcolor\": \"#2a3f5f\", \"arrowhead\": 0, \"arrowwidth\": 1}, \"autotypenumbers\": \"strict\", \"coloraxis\": {\"colorbar\": {\"outlinewidth\": 0, \"ticks\": \"\"}}, \"colorscale\": {\"diverging\": [[0, \"#8e0152\"], [0.1, \"#c51b7d\"], [0.2, \"#de77ae\"], [0.3, \"#f1b6da\"], [0.4, \"#fde0ef\"], [0.5, \"#f7f7f7\"], [0.6, \"#e6f5d0\"], [0.7, \"#b8e186\"], [0.8, \"#7fbc41\"], [0.9, \"#4d9221\"], [1, \"#276419\"]], \"sequential\": [[0.0, \"#0d0887\"], [0.1111111111111111, \"#46039f\"], [0.2222222222222222, \"#7201a8\"], [0.3333333333333333, \"#9c179e\"], [0.4444444444444444, \"#bd3786\"], [0.5555555555555556, \"#d8576b\"], [0.6666666666666666, \"#ed7953\"], [0.7777777777777778, \"#fb9f3a\"], [0.8888888888888888, \"#fdca26\"], [1.0, \"#f0f921\"]], \"sequentialminus\": [[0.0, \"#0d0887\"], [0.1111111111111111, \"#46039f\"], [0.2222222222222222, \"#7201a8\"], [0.3333333333333333, \"#9c179e\"], [0.4444444444444444, \"#bd3786\"], [0.5555555555555556, \"#d8576b\"], [0.6666666666666666, \"#ed7953\"], [0.7777777777777778, \"#fb9f3a\"], [0.8888888888888888, \"#fdca26\"], [1.0, \"#f0f921\"]]}, \"colorway\": [\"#636efa\", \"#EF553B\", \"#00cc96\", \"#ab63fa\", \"#FFA15A\", \"#19d3f3\", \"#FF6692\", \"#B6E880\", \"#FF97FF\", \"#FECB52\"], \"font\": {\"color\": \"#2a3f5f\"}, \"geo\": {\"bgcolor\": \"white\", \"lakecolor\": \"white\", \"landcolor\": \"#E5ECF6\", \"showlakes\": true, \"showland\": true, \"subunitcolor\": \"white\"}, \"hoverlabel\": {\"align\": \"left\"}, \"hovermode\": \"closest\", \"mapbox\": {\"style\": \"light\"}, \"paper_bgcolor\": \"white\", \"plot_bgcolor\": \"#E5ECF6\", \"polar\": {\"angularaxis\": {\"gridcolor\": \"white\", \"linecolor\": \"white\", \"ticks\": \"\"}, \"bgcolor\": \"#E5ECF6\", \"radialaxis\": {\"gridcolor\": \"white\", \"linecolor\": \"white\", \"ticks\": \"\"}}, \"scene\": {\"xaxis\": {\"backgroundcolor\": \"#E5ECF6\", \"gridcolor\": \"white\", \"gridwidth\": 2, \"linecolor\": \"white\", \"showbackground\": true, \"ticks\": \"\", \"zerolinecolor\": \"white\"}, \"yaxis\": {\"backgroundcolor\": \"#E5ECF6\", \"gridcolor\": \"white\", \"gridwidth\": 2, \"linecolor\": \"white\", \"showbackground\": true, \"ticks\": \"\", \"zerolinecolor\": \"white\"}, \"zaxis\": {\"backgroundcolor\": \"#E5ECF6\", \"gridcolor\": \"white\", \"gridwidth\": 2, \"linecolor\": \"white\", \"showbackground\": true, \"ticks\": \"\", \"zerolinecolor\": \"white\"}}, \"shapedefaults\": {\"line\": {\"color\": \"#2a3f5f\"}}, \"ternary\": {\"aaxis\": {\"gridcolor\": \"white\", \"linecolor\": \"white\", \"ticks\": \"\"}, \"baxis\": {\"gridcolor\": \"white\", \"linecolor\": \"white\", \"ticks\": \"\"}, \"bgcolor\": \"#E5ECF6\", \"caxis\": {\"gridcolor\": \"white\", \"linecolor\": \"white\", \"ticks\": \"\"}}, \"title\": {\"x\": 0.05}, \"xaxis\": {\"automargin\": true, \"gridcolor\": \"white\", \"linecolor\": \"white\", \"ticks\": \"\", \"title\": {\"standoff\": 15}, \"zerolinecolor\": \"white\", \"zerolinewidth\": 2}, \"yaxis\": {\"automargin\": true, \"gridcolor\": \"white\", \"linecolor\": \"white\", \"ticks\": \"\", \"title\": {\"standoff\": 15}, \"zerolinecolor\": \"white\", \"zerolinewidth\": 2}}}, \"title\": {\"text\": \"Option Basket price surface\"}},                        {\"responsive\": true}                    ).then(function(){\n",
       "                            \n",
       "var gd = document.getElementById('78cb3bbc-e447-46ba-bb3f-205d0a2a6072');\n",
       "var x = new MutationObserver(function (mutations, observer) {{\n",
       "        var display = window.getComputedStyle(gd).display;\n",
       "        if (!display || display === 'none') {{\n",
       "            console.log([gd, 'removed!']);\n",
       "            Plotly.purge(gd);\n",
       "            observer.disconnect();\n",
       "        }}\n",
       "}});\n",
       "\n",
       "// Listen for the removal of the full notebook cells\n",
       "var notebookContainer = gd.closest('#notebook-container');\n",
       "if (notebookContainer) {{\n",
       "    x.observe(notebookContainer, {childList: true});\n",
       "}}\n",
       "\n",
       "// Listen for the clearing of the current output cell\n",
       "var outputEl = gd.closest('.output');\n",
       "if (outputEl) {{\n",
       "    x.observe(outputEl, {childList: true});\n",
       "}}\n",
       "\n",
       "                        })                };                });            </script>        </div>"
      ]
     },
     "metadata": {},
     "output_type": "display_data"
    }
   ],
   "source": [
    "fig = go.Figure(data=[go.Surface(z=z, x=x, y=x)])\n",
    "fig.update_layout(title='Option Basket price surface')\n",
    "fig.show()"
   ]
  },
  {
   "cell_type": "code",
   "execution_count": 246,
   "id": "b8f75043",
   "metadata": {},
   "outputs": [],
   "source": [
    "def compute_call_BS(S0, T, K, sigma, r, q=0, t=0):\n",
    "    d_plus = (1./(sigma*np.sqrt(T-t)))*np.log(S0/(K*np.exp(-(r-q)*(T-t)))) + 0.5*sigma*np.sqrt(T-t)\n",
    "    d_moins = d_plus - sigma*np.sqrt(T-t)\n",
    "    call = S0*np.exp(-q*(T-t))*norm.cdf(d_plus) - K*np.exp(-r*(T-t))*norm.cdf(d_moins)\n",
    "    return call"
   ]
  },
  {
   "cell_type": "code",
   "execution_count": 247,
   "id": "71f1a388",
   "metadata": {},
   "outputs": [
    {
     "data": {
      "text/plain": [
       "79.85162187593777"
      ]
     },
     "execution_count": 247,
     "metadata": {},
     "output_type": "execute_result"
    }
   ],
   "source": [
    "np.exp(np.log(100) -0.5 +0.5*0.55)"
   ]
  },
  {
   "cell_type": "code",
   "execution_count": null,
   "id": "4de82151",
   "metadata": {},
   "outputs": [],
   "source": []
  },
  {
   "cell_type": "code",
   "execution_count": 248,
   "id": "680f6fc9",
   "metadata": {},
   "outputs": [],
   "source": [
    "def simulate_basket_option_control_variable(N_trajectories, confidence, alpha, rho, S0, sigmas, r, t, strike):\n",
    "    mean = np.zeros(alpha.shape[0])\n",
    "    variance_matrix = rho*np.ones((alpha.shape[0],alpha.shape[0])) + (1-rho)*np.diag(np.ones(alpha.shape[0]))  \n",
    "    \n",
    "    prices = np.random.multivariate_normal(mean=mean, cov=variance_matrix, size=N_trajectories)\n",
    "    prices = (r-0.5*(sigmas**2.0))*t + np.sqrt(t)*sigmas*prices\n",
    "    prices = S0*np.exp(prices)\n",
    "    \n",
    "    control_variable = np.exp((alpha*np.log(prices)).sum(axis = 1))\n",
    "    control_variable = np.maximum(control_variable - strike, 0)\n",
    "\n",
    "    option_basket = np.maximum((alpha*prices).sum(axis=1) - strike, 0)\n",
    "    \n",
    "    control_variable_variance = np.dot(alpha*sigmas, np.matmul(variance_matrix, alpha*sigmas))*t\n",
    "    \n",
    "    initial_price_control_BS = np.exp( (alpha*np.log(S0)).sum(axis = 0) \n",
    "                                      - 0.5*(alpha*(sigmas**2.0)).sum(axis =0) \n",
    "                                      + 0.5*control_variable_variance )\n",
    "                                      \n",
    "    price_BS = compute_call_BS(S0 = initial_price_control_BS,\n",
    "                                                T = t, \n",
    "                                                K = strike, \n",
    "                                                sigma = np.sqrt(control_variable_variance/t),\n",
    "                                                r = r)\n",
    "    price_basket = option_basket - control_variable\n",
    "    std = np.std(price_basket)\n",
    "    price_basket = np.mean(price_basket) + np.exp(r*t)*price_BS\n",
    "    confidence_interval_size = (norm.ppf((1.+confidence)/2.)*std)**2.0/N_trajectories\n",
    "    return price_basket, std, confidence_interval_size\n"
   ]
  },
  {
   "cell_type": "code",
   "execution_count": 249,
   "id": "a9242def",
   "metadata": {},
   "outputs": [
    {
     "data": {
      "text/plain": [
       "<matplotlib.legend.Legend at 0x1476d41f0>"
      ]
     },
     "execution_count": 249,
     "metadata": {},
     "output_type": "execute_result"
    },
    {
     "data": {
      "image/png": "[encoded data removed]",
      "text/plain": [
       "<Figure size 432x288 with 1 Axes>"
      ]
     },
     "metadata": {
      "needs_background": "light"
     },
     "output_type": "display_data"
    },
    {
     "data": {
      "image/png": "[encoded data removed]",
      "text/plain": [
       "<Figure size 432x288 with 1 Axes>"
      ]
     },
     "metadata": {
      "needs_background": "light"
     },
     "output_type": "display_data"
    }
   ],
   "source": [
    "X = [int(2**k) for k in range(12,22)]\n",
    "Y = [simulate_basket_option_control_variable(N_trajectories = x, \n",
    "                       confidence = 0.95, \n",
    "                       alpha = 1./10*np.ones(10), \n",
    "                       rho = 0.5, \n",
    "                       S0 = 100*np.ones(10), \n",
    "                       sigmas = np.ones(10), \n",
    "                       r = 0.1, \n",
    "                       t = 1.0, \n",
    "                       strike =103) for x in X]\n",
    "\n",
    "estimation = np.array([y[0] for y in Y])\n",
    "confidence = np.array([y[2] for y in Y])\n",
    "\n",
    "X_1 = range(12,22)\n",
    "plt.scatter(X_1, estimation, c = 'red', label = 'mean')\n",
    "plt.scatter(X_1, estimation+confidence, c = 'blue', label = 'upper_bound')\n",
    "plt.scatter(X_1, estimation-confidence, c = 'green', label = 'lower_bound')\n",
    "plt.title('Monte carlo simulation of option basket with control variable')\n",
    "plt.xlabel('log2(N_trajectories)')\n",
    "plt.ylabel('option basket price estimation')\n",
    "plt.legend()\n",
    "\n",
    "plt.figure()\n",
    "X = [int(2**k) for k in range(12,22)]\n",
    "Y = [simulate_basket_option(N_trajectories = x, \n",
    "                       confidence = 0.95, \n",
    "                       alpha = 1./10*np.ones(10), \n",
    "                       rho = 0.5, \n",
    "                       S0 = 100*np.ones(10), \n",
    "                       sigmas = np.ones(10), \n",
    "                       r = 0.1, \n",
    "                       t = 1.0, \n",
    "                       strike =103) for x in X]\n",
    "\n",
    "estimation = np.array([y[0] for y in Y])\n",
    "confidence = np.array([y[2] for y in Y])\n",
    "\n",
    "X_1 = range(12,22)\n",
    "plt.scatter(X_1, estimation, c = 'red', label = 'mean')\n",
    "plt.scatter(X_1, estimation+confidence, c = 'blue', label = 'upper_bound')\n",
    "plt.scatter(X_1, estimation-confidence, c = 'green', label = 'lower_bound')\n",
    "plt.title('Monte carlo simulation of option basket without control variable')\n",
    "plt.xlabel('log2(N_trajectories)')\n",
    "plt.ylabel('option basket price estimation')\n",
    "plt.legend()\n",
    "\n",
    "\n"
   ]
  },
  {
   "cell_type": "code",
   "execution_count": null,
   "id": "87b64b36",
   "metadata": {},
   "outputs": [],
   "source": []
  },
  {
   "cell_type": "code",
   "execution_count": null,
   "id": "b311a9d5",
   "metadata": {},
   "outputs": [],
   "source": []
  }
 ],
 "metadata": {
  "kernelspec": {
   "display_name": "Python 3",
   "language": "python",
   "name": "python3"
  },
  "language_info": {
   "codemirror_mode": {
    "name": "ipython",
    "version": 3
   },
   "file_extension": ".py",
   "mimetype": "text/x-python",
   "name": "python",
   "nbconvert_exporter": "python",
   "pygments_lexer": "ipython3",
   "version": "3.9.1"
  }
 },
 "nbformat": 4,
 "nbformat_minor": 5
}
